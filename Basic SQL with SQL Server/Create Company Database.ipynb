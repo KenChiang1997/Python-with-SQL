{
    "metadata": {
        "kernelspec": {
            "name": "SQL",
            "display_name": "SQL",
            "language": "sql"
        },
        "language_info": {
            "name": "sql",
            "version": ""
        }
    },
    "nbformat_minor": 2,
    "nbformat": 4,
    "cells": [
        {
            "cell_type": "code",
            "source": [
                "USE SQL_Tutorial\n",
                "GO"
            ],
            "metadata": {
                "azdata_cell_guid": "1353830d-b372-4e89-b827-8f3c0a6cdd9c",
                "language": "sql"
            },
            "outputs": [
                {
                    "output_type": "display_data",
                    "data": {
                        "text/html": "Commands completed successfully."
                    },
                    "metadata": {}
                },
                {
                    "output_type": "display_data",
                    "data": {
                        "text/html": "Total execution time: 00:00:00.008"
                    },
                    "metadata": {}
                }
            ],
            "execution_count": 3
        },
        {
            "cell_type": "markdown",
            "source": [
                " \\*\\*\\*Built Company DataBase \\*\\*\\*\n",
                "\n",
                "\\- employee   \n",
                "\n",
                "\\- branch\n",
                "\n",
                "\\- client\n",
                "\n",
                "\\- workwith"
            ],
            "metadata": {
                "language": "sql",
                "azdata_cell_guid": "ee9a0916-b1cb-4f3e-80c4-73f8b3dbc342"
            },
            "attachments": {}
        },
        {
            "cell_type": "code",
            "source": [
                "CREATE TABLE employee(\n",
                "\temp_id INT PRIMARY KEY,\n",
                "    name VARCHAR(20),\n",
                "\tbirth_date DATE,\n",
                "    sex VARCHAR(5),\n",
                "    salary INT,\n",
                "    branch_id INT,\n",
                "    sup_id INT\n",
                ");\n",
                "\n",
                "\n",
                "CREATE TABLE branch(\n",
                "\tbranch_id INT PRIMARY KEY,\n",
                "    branch_name VARCHAR(20),\n",
                "    manager_id INT,\n",
                ");\n",
                "\n",
                "\n",
                "CREATE TABLE client(\n",
                "\tclient_id INT PRIMARY KEY,\n",
                "    client_name VARCHAR(20),\n",
                "    phone VARCHAR(20)\n",
                ")\n",
                "\n",
                "CREATE TABLE works_with(\n",
                "\temp_id INT,\n",
                "    client_id INT,\n",
                "    total_sales INT,\n",
                "    PRIMARY KEY (emp_id,client_id)\n",
                ")"
            ],
            "metadata": {
                "language": "sql",
                "azdata_cell_guid": "c0ce0db4-0613-4ad9-b2f1-fbcc72d55441",
                "tags": []
            },
            "outputs": [
                {
                    "output_type": "display_data",
                    "data": {
                        "text/html": "Commands completed successfully."
                    },
                    "metadata": {}
                },
                {
                    "output_type": "display_data",
                    "data": {
                        "text/html": "Total execution time: 00:00:00.054"
                    },
                    "metadata": {}
                }
            ],
            "execution_count": 5
        },
        {
            "cell_type": "code",
            "source": [
                "SELECT * FROM employee\n",
                "SELECT * FROM branch\n",
                "SELECT * FROM client\n",
                "SELECT * FROM works_with"
            ],
            "metadata": {
                "language": "sql",
                "azdata_cell_guid": "a9690c3d-8760-4398-a43f-a72c675eb1a5"
            },
            "outputs": [
                {
                    "output_type": "display_data",
                    "data": {
                        "text/html": "(0 rows affected)"
                    },
                    "metadata": {}
                },
                {
                    "output_type": "display_data",
                    "data": {
                        "text/html": "(0 rows affected)"
                    },
                    "metadata": {}
                },
                {
                    "output_type": "display_data",
                    "data": {
                        "text/html": "(0 rows affected)"
                    },
                    "metadata": {}
                },
                {
                    "output_type": "display_data",
                    "data": {
                        "text/html": "(0 rows affected)"
                    },
                    "metadata": {}
                },
                {
                    "output_type": "display_data",
                    "data": {
                        "text/html": "Total execution time: 00:00:00.023"
                    },
                    "metadata": {}
                },
                {
                    "output_type": "execute_result",
                    "execution_count": 8,
                    "data": {
                        "application/vnd.dataresource+json": {
                            "schema": {
                                "fields": [
                                    {
                                        "name": "emp_id"
                                    },
                                    {
                                        "name": "name"
                                    },
                                    {
                                        "name": "birth_date"
                                    },
                                    {
                                        "name": "sex"
                                    },
                                    {
                                        "name": "salary"
                                    },
                                    {
                                        "name": "branch_id"
                                    },
                                    {
                                        "name": "sup_id"
                                    }
                                ]
                            },
                            "data": []
                        },
                        "text/html": "<table><tr><th>emp_id</th><th>name</th><th>birth_date</th><th>sex</th><th>salary</th><th>branch_id</th><th>sup_id</th></tr></table>"
                    },
                    "metadata": {}
                },
                {
                    "output_type": "execute_result",
                    "execution_count": 8,
                    "data": {
                        "application/vnd.dataresource+json": {
                            "schema": {
                                "fields": [
                                    {
                                        "name": "branch_id"
                                    },
                                    {
                                        "name": "branch_name"
                                    },
                                    {
                                        "name": "manager_id"
                                    }
                                ]
                            },
                            "data": []
                        },
                        "text/html": "<table><tr><th>branch_id</th><th>branch_name</th><th>manager_id</th></tr></table>"
                    },
                    "metadata": {}
                },
                {
                    "output_type": "execute_result",
                    "execution_count": 8,
                    "data": {
                        "application/vnd.dataresource+json": {
                            "schema": {
                                "fields": [
                                    {
                                        "name": "client_id"
                                    },
                                    {
                                        "name": "client_name"
                                    },
                                    {
                                        "name": "phone"
                                    }
                                ]
                            },
                            "data": []
                        },
                        "text/html": "<table><tr><th>client_id</th><th>client_name</th><th>phone</th></tr></table>"
                    },
                    "metadata": {}
                },
                {
                    "output_type": "execute_result",
                    "execution_count": 8,
                    "data": {
                        "application/vnd.dataresource+json": {
                            "schema": {
                                "fields": [
                                    {
                                        "name": "emp_id"
                                    },
                                    {
                                        "name": "client_id"
                                    },
                                    {
                                        "name": "total_sales"
                                    }
                                ]
                            },
                            "data": []
                        },
                        "text/html": "<table><tr><th>emp_id</th><th>client_id</th><th>total_sales</th></tr></table>"
                    },
                    "metadata": {}
                }
            ],
            "execution_count": 8
        },
        {
            "cell_type": "markdown",
            "source": [
                "Insert Data Into 4 Tables"
            ],
            "metadata": {
                "language": "sql",
                "azdata_cell_guid": "2de1a5c4-64e2-4062-8094-c377630d15e7"
            },
            "attachments": {}
        },
        {
            "cell_type": "code",
            "source": [
                "INSERT INTO branch VALUES(1,'R&D',NULL);\n",
                "INSERT INTO branch VALUES(2,'Operation',NULL);\n",
                "INSERT INTO branch VALUES(3,'Information',NULL);\n",
                "\n",
                "INSERT INTO employee VALUES(206,'Yellow','1998-10-08','F',50000,1,NULL);  -- 發先沒有 branch_id = 1 的資料 (have to insert branch data first with manager_id is null)\n",
                "INSERT INTO employee VALUES(207,'Green','1995-09-16','F',29000,2,206);\n",
                "INSERT INTO employee VALUES(208,'Black','2000-05-08','F',35000,3,206);\n",
                "INSERT INTO employee VALUES(209,'White','1997-04-12','F',39000,3,207);\n",
                "INSERT INTO employee VALUES(210,'Blue','1928-11-10','F',84000,1,207);\n",
                "\n",
                "UPDATE branch\n",
                "SET manager_id = 206\n",
                "WHERE branch_id = 1;\n",
                "\n",
                "UPDATE branch\n",
                "SET manager_id = 207\n",
                "WHERE branch_id = 2;\n",
                "\n",
                "UPDATE branch\n",
                "SET manager_id = 208\n",
                "WHERE branch_id = 3;\n",
                "\n",
                "INSERT INTO client VALUES(400,'Doggie','98456');\n",
                "INSERT INTO client VALUES(401,'Cattie','89456');\n",
                "INSERT INTO client VALUES(402,'Latte','75456');\n",
                "INSERT INTO client VALUES(403,'Ruru','75456');\n",
                "INSERT INTO client VALUES(404,'Mimi','13456');\n",
                "\n",
                "INSERT INTO works_with VALUES(206,400,70000);\n",
                "INSERT INTO works_with VALUES(207,401,24000);\n",
                "INSERT INTO works_with VALUES(208,402,9800);\n",
                "INSERT INTO works_with VALUES(208,403,24000);\n",
                "INSERT INTO works_with VALUES(210,404,74560);"
            ],
            "metadata": {
                "language": "sql",
                "azdata_cell_guid": "a0ca2f07-401a-4b65-861d-e6d23bf97aa9"
            },
            "outputs": [
                {
                    "output_type": "display_data",
                    "data": {
                        "text/html": "(1 row affected)"
                    },
                    "metadata": {}
                },
                {
                    "output_type": "display_data",
                    "data": {
                        "text/html": "(1 row affected)"
                    },
                    "metadata": {}
                },
                {
                    "output_type": "display_data",
                    "data": {
                        "text/html": "(1 row affected)"
                    },
                    "metadata": {}
                },
                {
                    "output_type": "display_data",
                    "data": {
                        "text/html": "(1 row affected)"
                    },
                    "metadata": {}
                },
                {
                    "output_type": "display_data",
                    "data": {
                        "text/html": "(1 row affected)"
                    },
                    "metadata": {}
                },
                {
                    "output_type": "display_data",
                    "data": {
                        "text/html": "(1 row affected)"
                    },
                    "metadata": {}
                },
                {
                    "output_type": "display_data",
                    "data": {
                        "text/html": "(1 row affected)"
                    },
                    "metadata": {}
                },
                {
                    "output_type": "display_data",
                    "data": {
                        "text/html": "(1 row affected)"
                    },
                    "metadata": {}
                },
                {
                    "output_type": "display_data",
                    "data": {
                        "text/html": "(1 row affected)"
                    },
                    "metadata": {}
                },
                {
                    "output_type": "display_data",
                    "data": {
                        "text/html": "(1 row affected)"
                    },
                    "metadata": {}
                },
                {
                    "output_type": "display_data",
                    "data": {
                        "text/html": "(1 row affected)"
                    },
                    "metadata": {}
                },
                {
                    "output_type": "display_data",
                    "data": {
                        "text/html": "(1 row affected)"
                    },
                    "metadata": {}
                },
                {
                    "output_type": "display_data",
                    "data": {
                        "text/html": "(1 row affected)"
                    },
                    "metadata": {}
                },
                {
                    "output_type": "display_data",
                    "data": {
                        "text/html": "(1 row affected)"
                    },
                    "metadata": {}
                },
                {
                    "output_type": "display_data",
                    "data": {
                        "text/html": "(1 row affected)"
                    },
                    "metadata": {}
                },
                {
                    "output_type": "display_data",
                    "data": {
                        "text/html": "(1 row affected)"
                    },
                    "metadata": {}
                },
                {
                    "output_type": "display_data",
                    "data": {
                        "text/html": "(1 row affected)"
                    },
                    "metadata": {}
                },
                {
                    "output_type": "display_data",
                    "data": {
                        "text/html": "(1 row affected)"
                    },
                    "metadata": {}
                },
                {
                    "output_type": "display_data",
                    "data": {
                        "text/html": "(1 row affected)"
                    },
                    "metadata": {}
                },
                {
                    "output_type": "display_data",
                    "data": {
                        "text/html": "(1 row affected)"
                    },
                    "metadata": {}
                },
                {
                    "output_type": "display_data",
                    "data": {
                        "text/html": "(1 row affected)"
                    },
                    "metadata": {}
                },
                {
                    "output_type": "display_data",
                    "data": {
                        "text/html": "Total execution time: 00:00:00.107"
                    },
                    "metadata": {}
                }
            ],
            "execution_count": 10
        },
        {
            "cell_type": "code",
            "source": [
                "SELECT * FROM employee\n",
                "SELECT * FROM branch\n",
                "SELECT * FROM client\n",
                "SELECT * FROM works_with"
            ],
            "metadata": {
                "language": "sql",
                "azdata_cell_guid": "93ab47fc-f0b7-437f-81f0-3b4866efdd50"
            },
            "outputs": [
                {
                    "output_type": "display_data",
                    "data": {
                        "text/html": "(5 rows affected)"
                    },
                    "metadata": {}
                },
                {
                    "output_type": "display_data",
                    "data": {
                        "text/html": "(3 rows affected)"
                    },
                    "metadata": {}
                },
                {
                    "output_type": "display_data",
                    "data": {
                        "text/html": "(5 rows affected)"
                    },
                    "metadata": {}
                },
                {
                    "output_type": "display_data",
                    "data": {
                        "text/html": "(5 rows affected)"
                    },
                    "metadata": {}
                },
                {
                    "output_type": "display_data",
                    "data": {
                        "text/html": "Total execution time: 00:00:00.057"
                    },
                    "metadata": {}
                },
                {
                    "output_type": "execute_result",
                    "execution_count": 11,
                    "data": {
                        "application/vnd.dataresource+json": {
                            "schema": {
                                "fields": [
                                    {
                                        "name": "emp_id"
                                    },
                                    {
                                        "name": "name"
                                    },
                                    {
                                        "name": "birth_date"
                                    },
                                    {
                                        "name": "sex"
                                    },
                                    {
                                        "name": "salary"
                                    },
                                    {
                                        "name": "branch_id"
                                    },
                                    {
                                        "name": "sup_id"
                                    }
                                ]
                            },
                            "data": [
                                {
                                    "0": "206",
                                    "1": "Yellow",
                                    "2": "1998-10-08",
                                    "3": "F",
                                    "4": "50000",
                                    "5": "1",
                                    "6": "NULL"
                                },
                                {
                                    "0": "207",
                                    "1": "Green",
                                    "2": "1995-09-16",
                                    "3": "F",
                                    "4": "29000",
                                    "5": "2",
                                    "6": "206"
                                },
                                {
                                    "0": "208",
                                    "1": "Black",
                                    "2": "2000-05-08",
                                    "3": "F",
                                    "4": "35000",
                                    "5": "3",
                                    "6": "206"
                                },
                                {
                                    "0": "209",
                                    "1": "White",
                                    "2": "1997-04-12",
                                    "3": "F",
                                    "4": "39000",
                                    "5": "3",
                                    "6": "207"
                                },
                                {
                                    "0": "210",
                                    "1": "Blue",
                                    "2": "1928-11-10",
                                    "3": "F",
                                    "4": "84000",
                                    "5": "1",
                                    "6": "207"
                                }
                            ]
                        },
                        "text/html": "<table><tr><th>emp_id</th><th>name</th><th>birth_date</th><th>sex</th><th>salary</th><th>branch_id</th><th>sup_id</th></tr><tr><td>206</td><td>Yellow</td><td>1998-10-08</td><td>F</td><td>50000</td><td>1</td><td>NULL</td></tr><tr><td>207</td><td>Green</td><td>1995-09-16</td><td>F</td><td>29000</td><td>2</td><td>206</td></tr><tr><td>208</td><td>Black</td><td>2000-05-08</td><td>F</td><td>35000</td><td>3</td><td>206</td></tr><tr><td>209</td><td>White</td><td>1997-04-12</td><td>F</td><td>39000</td><td>3</td><td>207</td></tr><tr><td>210</td><td>Blue</td><td>1928-11-10</td><td>F</td><td>84000</td><td>1</td><td>207</td></tr></table>"
                    },
                    "metadata": {}
                },
                {
                    "output_type": "execute_result",
                    "execution_count": 11,
                    "data": {
                        "application/vnd.dataresource+json": {
                            "schema": {
                                "fields": [
                                    {
                                        "name": "branch_id"
                                    },
                                    {
                                        "name": "branch_name"
                                    },
                                    {
                                        "name": "manager_id"
                                    }
                                ]
                            },
                            "data": [
                                {
                                    "0": "1",
                                    "1": "R&D",
                                    "2": "206"
                                },
                                {
                                    "0": "2",
                                    "1": "Operation",
                                    "2": "207"
                                },
                                {
                                    "0": "3",
                                    "1": "Information",
                                    "2": "208"
                                }
                            ]
                        },
                        "text/html": "<table><tr><th>branch_id</th><th>branch_name</th><th>manager_id</th></tr><tr><td>1</td><td>R&amp;D</td><td>206</td></tr><tr><td>2</td><td>Operation</td><td>207</td></tr><tr><td>3</td><td>Information</td><td>208</td></tr></table>"
                    },
                    "metadata": {}
                },
                {
                    "output_type": "execute_result",
                    "execution_count": 11,
                    "data": {
                        "application/vnd.dataresource+json": {
                            "schema": {
                                "fields": [
                                    {
                                        "name": "client_id"
                                    },
                                    {
                                        "name": "client_name"
                                    },
                                    {
                                        "name": "phone"
                                    }
                                ]
                            },
                            "data": [
                                {
                                    "0": "400",
                                    "1": "Doggie",
                                    "2": "98456"
                                },
                                {
                                    "0": "401",
                                    "1": "Cattie",
                                    "2": "89456"
                                },
                                {
                                    "0": "402",
                                    "1": "Latte",
                                    "2": "75456"
                                },
                                {
                                    "0": "403",
                                    "1": "Ruru",
                                    "2": "75456"
                                },
                                {
                                    "0": "404",
                                    "1": "Mimi",
                                    "2": "13456"
                                }
                            ]
                        },
                        "text/html": "<table><tr><th>client_id</th><th>client_name</th><th>phone</th></tr><tr><td>400</td><td>Doggie</td><td>98456</td></tr><tr><td>401</td><td>Cattie</td><td>89456</td></tr><tr><td>402</td><td>Latte</td><td>75456</td></tr><tr><td>403</td><td>Ruru</td><td>75456</td></tr><tr><td>404</td><td>Mimi</td><td>13456</td></tr></table>"
                    },
                    "metadata": {}
                },
                {
                    "output_type": "execute_result",
                    "execution_count": 11,
                    "data": {
                        "application/vnd.dataresource+json": {
                            "schema": {
                                "fields": [
                                    {
                                        "name": "emp_id"
                                    },
                                    {
                                        "name": "client_id"
                                    },
                                    {
                                        "name": "total_sales"
                                    }
                                ]
                            },
                            "data": [
                                {
                                    "0": "206",
                                    "1": "400",
                                    "2": "70000"
                                },
                                {
                                    "0": "207",
                                    "1": "401",
                                    "2": "24000"
                                },
                                {
                                    "0": "208",
                                    "1": "402",
                                    "2": "9800"
                                },
                                {
                                    "0": "208",
                                    "1": "403",
                                    "2": "24000"
                                },
                                {
                                    "0": "210",
                                    "1": "404",
                                    "2": "74560"
                                }
                            ]
                        },
                        "text/html": "<table><tr><th>emp_id</th><th>client_id</th><th>total_sales</th></tr><tr><td>206</td><td>400</td><td>70000</td></tr><tr><td>207</td><td>401</td><td>24000</td></tr><tr><td>208</td><td>402</td><td>9800</td></tr><tr><td>208</td><td>403</td><td>24000</td></tr><tr><td>210</td><td>404</td><td>74560</td></tr></table>"
                    },
                    "metadata": {}
                }
            ],
            "execution_count": 11
        }
    ]
}