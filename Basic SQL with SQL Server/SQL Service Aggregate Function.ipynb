{
    "metadata": {
        "kernelspec": {
            "name": "SQL",
            "display_name": "SQL",
            "language": "sql"
        },
        "language_info": {
            "name": "sql",
            "version": ""
        }
    },
    "nbformat_minor": 2,
    "nbformat": 4,
    "cells": [
        {
            "cell_type": "code",
            "source": [
                "USE SQL_Tutorial\n",
                "GO"
            ],
            "metadata": {
                "azdata_cell_guid": "3d193f39-8713-4d5f-a337-12fdb02c5dc3",
                "language": "sql",
                "tags": []
            },
            "outputs": [
                {
                    "output_type": "display_data",
                    "data": {
                        "text/html": "Commands completed successfully."
                    },
                    "metadata": {}
                },
                {
                    "output_type": "display_data",
                    "data": {
                        "text/html": "Total execution time: 00:00:00.005"
                    },
                    "metadata": {}
                }
            ],
            "execution_count": 37
        },
        {
            "cell_type": "code",
            "source": [
                "SELECT * FROM employee\n",
                "SELECT * FROM branch\n",
                "SELECT * FROM client\n",
                "SELECT * FROM works_with"
            ],
            "metadata": {
                "language": "sql",
                "azdata_cell_guid": "8d38453d-3d4b-449c-ae36-c532473a99bc",
                "tags": [
                    "hide_input"
                ]
            },
            "outputs": [
                {
                    "output_type": "display_data",
                    "data": {
                        "text/html": "(5 rows affected)"
                    },
                    "metadata": {}
                },
                {
                    "output_type": "display_data",
                    "data": {
                        "text/html": "(3 rows affected)"
                    },
                    "metadata": {}
                },
                {
                    "output_type": "display_data",
                    "data": {
                        "text/html": "(5 rows affected)"
                    },
                    "metadata": {}
                },
                {
                    "output_type": "display_data",
                    "data": {
                        "text/html": "(5 rows affected)"
                    },
                    "metadata": {}
                },
                {
                    "output_type": "display_data",
                    "data": {
                        "text/html": "Total execution time: 00:00:00.011"
                    },
                    "metadata": {}
                },
                {
                    "output_type": "execute_result",
                    "metadata": {},
                    "execution_count": 38,
                    "data": {
                        "application/vnd.dataresource+json": {
                            "schema": {
                                "fields": [
                                    {
                                        "name": "emp_id"
                                    },
                                    {
                                        "name": "name"
                                    },
                                    {
                                        "name": "birth_date"
                                    },
                                    {
                                        "name": "sex"
                                    },
                                    {
                                        "name": "salary"
                                    },
                                    {
                                        "name": "branch_id"
                                    },
                                    {
                                        "name": "sup_id"
                                    }
                                ]
                            },
                            "data": [
                                {
                                    "0": "206",
                                    "1": "Yellow",
                                    "2": "1998-10-08",
                                    "3": "F",
                                    "4": "50000",
                                    "5": "1",
                                    "6": "NULL"
                                },
                                {
                                    "0": "207",
                                    "1": "Green",
                                    "2": "1995-09-16",
                                    "3": "F",
                                    "4": "29000",
                                    "5": "2",
                                    "6": "206"
                                },
                                {
                                    "0": "208",
                                    "1": "Black",
                                    "2": "2000-05-08",
                                    "3": "F",
                                    "4": "35000",
                                    "5": "3",
                                    "6": "206"
                                },
                                {
                                    "0": "209",
                                    "1": "White",
                                    "2": "1997-04-12",
                                    "3": "F",
                                    "4": "39000",
                                    "5": "3",
                                    "6": "207"
                                },
                                {
                                    "0": "210",
                                    "1": "Blue",
                                    "2": "1928-11-10",
                                    "3": "F",
                                    "4": "84000",
                                    "5": "1",
                                    "6": "207"
                                }
                            ]
                        },
                        "text/html": [
                            "<table>",
                            "<tr><th>emp_id</th><th>name</th><th>birth_date</th><th>sex</th><th>salary</th><th>branch_id</th><th>sup_id</th></tr>",
                            "<tr><td>206</td><td>Yellow</td><td>1998-10-08</td><td>F</td><td>50000</td><td>1</td><td>NULL</td></tr>",
                            "<tr><td>207</td><td>Green</td><td>1995-09-16</td><td>F</td><td>29000</td><td>2</td><td>206</td></tr>",
                            "<tr><td>208</td><td>Black</td><td>2000-05-08</td><td>F</td><td>35000</td><td>3</td><td>206</td></tr>",
                            "<tr><td>209</td><td>White</td><td>1997-04-12</td><td>F</td><td>39000</td><td>3</td><td>207</td></tr>",
                            "<tr><td>210</td><td>Blue</td><td>1928-11-10</td><td>F</td><td>84000</td><td>1</td><td>207</td></tr>",
                            "</table>"
                        ]
                    }
                },
                {
                    "output_type": "execute_result",
                    "metadata": {},
                    "execution_count": 38,
                    "data": {
                        "application/vnd.dataresource+json": {
                            "schema": {
                                "fields": [
                                    {
                                        "name": "branch_id"
                                    },
                                    {
                                        "name": "branch_name"
                                    },
                                    {
                                        "name": "manager_id"
                                    }
                                ]
                            },
                            "data": [
                                {
                                    "0": "1",
                                    "1": "R&D",
                                    "2": "206"
                                },
                                {
                                    "0": "2",
                                    "1": "Operation",
                                    "2": "207"
                                },
                                {
                                    "0": "3",
                                    "1": "Information",
                                    "2": "208"
                                }
                            ]
                        },
                        "text/html": [
                            "<table>",
                            "<tr><th>branch_id</th><th>branch_name</th><th>manager_id</th></tr>",
                            "<tr><td>1</td><td>R&amp;D</td><td>206</td></tr>",
                            "<tr><td>2</td><td>Operation</td><td>207</td></tr>",
                            "<tr><td>3</td><td>Information</td><td>208</td></tr>",
                            "</table>"
                        ]
                    }
                },
                {
                    "output_type": "execute_result",
                    "metadata": {},
                    "execution_count": 38,
                    "data": {
                        "application/vnd.dataresource+json": {
                            "schema": {
                                "fields": [
                                    {
                                        "name": "client_id"
                                    },
                                    {
                                        "name": "client_name"
                                    },
                                    {
                                        "name": "phone"
                                    }
                                ]
                            },
                            "data": [
                                {
                                    "0": "400",
                                    "1": "Doggie",
                                    "2": "98456"
                                },
                                {
                                    "0": "401",
                                    "1": "Cattie",
                                    "2": "89456"
                                },
                                {
                                    "0": "402",
                                    "1": "Latte",
                                    "2": "75456"
                                },
                                {
                                    "0": "403",
                                    "1": "Ruru",
                                    "2": "75456"
                                },
                                {
                                    "0": "404",
                                    "1": "Mimi",
                                    "2": "13456"
                                }
                            ]
                        },
                        "text/html": [
                            "<table>",
                            "<tr><th>client_id</th><th>client_name</th><th>phone</th></tr>",
                            "<tr><td>400</td><td>Doggie</td><td>98456</td></tr>",
                            "<tr><td>401</td><td>Cattie</td><td>89456</td></tr>",
                            "<tr><td>402</td><td>Latte</td><td>75456</td></tr>",
                            "<tr><td>403</td><td>Ruru</td><td>75456</td></tr>",
                            "<tr><td>404</td><td>Mimi</td><td>13456</td></tr>",
                            "</table>"
                        ]
                    }
                },
                {
                    "output_type": "execute_result",
                    "metadata": {},
                    "execution_count": 38,
                    "data": {
                        "application/vnd.dataresource+json": {
                            "schema": {
                                "fields": [
                                    {
                                        "name": "emp_id"
                                    },
                                    {
                                        "name": "client_id"
                                    },
                                    {
                                        "name": "total_sales"
                                    }
                                ]
                            },
                            "data": [
                                {
                                    "0": "206",
                                    "1": "400",
                                    "2": "70000"
                                },
                                {
                                    "0": "207",
                                    "1": "401",
                                    "2": "24000"
                                },
                                {
                                    "0": "208",
                                    "1": "402",
                                    "2": "9800"
                                },
                                {
                                    "0": "208",
                                    "1": "403",
                                    "2": "24000"
                                },
                                {
                                    "0": "210",
                                    "1": "404",
                                    "2": "74560"
                                }
                            ]
                        },
                        "text/html": [
                            "<table>",
                            "<tr><th>emp_id</th><th>client_id</th><th>total_sales</th></tr>",
                            "<tr><td>206</td><td>400</td><td>70000</td></tr>",
                            "<tr><td>207</td><td>401</td><td>24000</td></tr>",
                            "<tr><td>208</td><td>402</td><td>9800</td></tr>",
                            "<tr><td>208</td><td>403</td><td>24000</td></tr>",
                            "<tr><td>210</td><td>404</td><td>74560</td></tr>",
                            "</table>"
                        ]
                    }
                }
            ],
            "execution_count": 38
        },
        {
            "cell_type": "markdown",
            "source": [
                "## \\- JOIN Function\n",
                "\n",
                "If we want to know which sales have important client (total\\_sales\\>70,000)"
            ],
            "metadata": {
                "azdata_cell_guid": "b98923f0-aae4-474a-8b65-c0e023a46e58"
            },
            "attachments": {}
        },
        {
            "cell_type": "code",
            "source": [
                "SELECT * FROM \n",
                "(\n",
                "    SELECT * FROM  employee\n",
                ")t\n",
                "LEFT JOIN \n",
                "(\n",
                "SELECT * FROM works_with\n",
                ")tt\n",
                "ON t.emp_id = tt.emp_id\n",
                "WHERE total_sales >= 70000\n",
                "ORDER BY t.emp_id DESC -- Important thing here that if we want to order a column that exist in two table, please make sure to identify which table you are refering to."
            ],
            "metadata": {
                "azdata_cell_guid": "14484b3a-1f75-4f21-8370-1940ae4ad9c8",
                "language": "sql",
                "tags": [
                    "hide_input"
                ]
            },
            "outputs": [
                {
                    "output_type": "display_data",
                    "data": {
                        "text/html": "(2 rows affected)"
                    },
                    "metadata": {}
                },
                {
                    "output_type": "display_data",
                    "data": {
                        "text/html": "Total execution time: 00:00:00.006"
                    },
                    "metadata": {}
                },
                {
                    "output_type": "execute_result",
                    "metadata": {},
                    "execution_count": 39,
                    "data": {
                        "application/vnd.dataresource+json": {
                            "schema": {
                                "fields": [
                                    {
                                        "name": "emp_id"
                                    },
                                    {
                                        "name": "name"
                                    },
                                    {
                                        "name": "birth_date"
                                    },
                                    {
                                        "name": "sex"
                                    },
                                    {
                                        "name": "salary"
                                    },
                                    {
                                        "name": "branch_id"
                                    },
                                    {
                                        "name": "sup_id"
                                    },
                                    {
                                        "name": "emp_id"
                                    },
                                    {
                                        "name": "client_id"
                                    },
                                    {
                                        "name": "total_sales"
                                    }
                                ]
                            },
                            "data": [
                                {
                                    "0": "210",
                                    "1": "Blue",
                                    "2": "1928-11-10",
                                    "3": "F",
                                    "4": "84000",
                                    "5": "1",
                                    "6": "207",
                                    "7": "210",
                                    "8": "404",
                                    "9": "74560"
                                },
                                {
                                    "0": "206",
                                    "1": "Yellow",
                                    "2": "1998-10-08",
                                    "3": "F",
                                    "4": "50000",
                                    "5": "1",
                                    "6": "NULL",
                                    "7": "206",
                                    "8": "400",
                                    "9": "70000"
                                }
                            ]
                        },
                        "text/html": [
                            "<table>",
                            "<tr><th>emp_id</th><th>name</th><th>birth_date</th><th>sex</th><th>salary</th><th>branch_id</th><th>sup_id</th><th>emp_id</th><th>client_id</th><th>total_sales</th></tr>",
                            "<tr><td>210</td><td>Blue</td><td>1928-11-10</td><td>F</td><td>84000</td><td>1</td><td>207</td><td>210</td><td>404</td><td>74560</td></tr>",
                            "<tr><td>206</td><td>Yellow</td><td>1998-10-08</td><td>F</td><td>50000</td><td>1</td><td>NULL</td><td>206</td><td>400</td><td>70000</td></tr>",
                            "</table>"
                        ]
                    }
                }
            ],
            "execution_count": 39
        },
        {
            "cell_type": "markdown",
            "source": [
                "## \\- GROUP BY Function\n",
                "\n",
                "If we want to know average branch  salary"
            ],
            "metadata": {
                "language": "sql",
                "azdata_cell_guid": "9a5295ad-ebbc-4fef-a756-0d887f53fa3f"
            },
            "attachments": {}
        },
        {
            "cell_type": "code",
            "source": [
                "select branch_id, \n",
                "       COUNT(emp_id) as '#employees', \n",
                "       AVG(salary) as 'Average Branch Salary' \n",
                "FROM employee\n",
                "GROUP BY branch_id\n",
                "ORDER BY branch_id"
            ],
            "metadata": {
                "language": "sql",
                "azdata_cell_guid": "7720dd06-84fd-4cc9-afa6-2dc6caed93db",
                "tags": [
                    "hide_input"
                ]
            },
            "outputs": [
                {
                    "output_type": "display_data",
                    "data": {
                        "text/html": "(3 rows affected)"
                    },
                    "metadata": {}
                },
                {
                    "output_type": "display_data",
                    "data": {
                        "text/html": "Total execution time: 00:00:00.006"
                    },
                    "metadata": {}
                },
                {
                    "output_type": "execute_result",
                    "metadata": {},
                    "execution_count": 40,
                    "data": {
                        "application/vnd.dataresource+json": {
                            "schema": {
                                "fields": [
                                    {
                                        "name": "branch_id"
                                    },
                                    {
                                        "name": "#employees"
                                    },
                                    {
                                        "name": "Average Branch Salary"
                                    }
                                ]
                            },
                            "data": [
                                {
                                    "0": "1",
                                    "1": "2",
                                    "2": "67000"
                                },
                                {
                                    "0": "2",
                                    "1": "1",
                                    "2": "29000"
                                },
                                {
                                    "0": "3",
                                    "1": "2",
                                    "2": "37000"
                                }
                            ]
                        },
                        "text/html": [
                            "<table>",
                            "<tr><th>branch_id</th><th>#employees</th><th>Average Branch Salary</th></tr>",
                            "<tr><td>1</td><td>2</td><td>67000</td></tr>",
                            "<tr><td>2</td><td>1</td><td>29000</td></tr>",
                            "<tr><td>3</td><td>2</td><td>37000</td></tr>",
                            "</table>"
                        ]
                    }
                }
            ],
            "execution_count": 40
        },
        {
            "cell_type": "markdown",
            "source": [
                "## \\- PIVOT TABLE\n",
                "\n",
                "Pivot table is extremly useful when we deal with pannel data.\n",
                "\n",
                "Here we can select an column data and make the specific column data to be our rebuild columns."
            ],
            "metadata": {
                "language": "sql",
                "azdata_cell_guid": "b6403083-c0d4-43b8-b2d6-f0856987e2d6"
            },
            "attachments": {}
        },
        {
            "cell_type": "code",
            "source": [
                "select * from \n",
                "(\n",
                "    select branch_id, AVG(salary) as 'Average_Branch_Salary' FROM employee\n",
                "    GROUP BY branch_id\n",
                ")t\n",
                "PIVOT\n",
                "(\n",
                "    max(Average_Branch_Salary) for branch_id in ([1],\n",
                "                                                 [2],\n",
                "                                                 [3])\n",
                ")pt"
            ],
            "metadata": {
                "language": "sql",
                "azdata_cell_guid": "5868d0d2-f083-4297-a0b1-1416f4828dec",
                "tags": [
                    "hide_input"
                ]
            },
            "outputs": [
                {
                    "output_type": "display_data",
                    "data": {
                        "text/html": "(1 row affected)"
                    },
                    "metadata": {}
                },
                {
                    "output_type": "display_data",
                    "data": {
                        "text/html": "Total execution time: 00:00:00.006"
                    },
                    "metadata": {}
                },
                {
                    "output_type": "execute_result",
                    "metadata": {},
                    "execution_count": 41,
                    "data": {
                        "application/vnd.dataresource+json": {
                            "schema": {
                                "fields": [
                                    {
                                        "name": "1"
                                    },
                                    {
                                        "name": "2"
                                    },
                                    {
                                        "name": "3"
                                    }
                                ]
                            },
                            "data": [
                                {
                                    "0": "67000",
                                    "1": "29000",
                                    "2": "37000"
                                }
                            ]
                        },
                        "text/html": [
                            "<table>",
                            "<tr><th>1</th><th>2</th><th>3</th></tr>",
                            "<tr><td>67000</td><td>29000</td><td>37000</td></tr>",
                            "</table>"
                        ]
                    }
                }
            ],
            "execution_count": 41
        },
        {
            "cell_type": "markdown",
            "source": [
                "## \\- Outer Apply\n",
                "\n",
                "select the top 1 salary employee data in each branch."
            ],
            "metadata": {
                "language": "sql",
                "azdata_cell_guid": "7637737e-a23d-47e5-bf29-aeac4da79bb4"
            },
            "attachments": {}
        },
        {
            "cell_type": "code",
            "source": [
                "SELECT * FROM employee\n",
                "SELECT * FROM branch"
            ],
            "metadata": {
                "language": "sql",
                "azdata_cell_guid": "bfce4385-1692-475d-804e-08f83ecf5f1d",
                "tags": []
            },
            "outputs": [
                {
                    "output_type": "display_data",
                    "data": {
                        "text/html": "(5 rows affected)"
                    },
                    "metadata": {}
                },
                {
                    "output_type": "display_data",
                    "data": {
                        "text/html": "(3 rows affected)"
                    },
                    "metadata": {}
                },
                {
                    "output_type": "display_data",
                    "data": {
                        "text/html": "Total execution time: 00:00:00.007"
                    },
                    "metadata": {}
                },
                {
                    "output_type": "execute_result",
                    "metadata": {},
                    "execution_count": 42,
                    "data": {
                        "application/vnd.dataresource+json": {
                            "schema": {
                                "fields": [
                                    {
                                        "name": "emp_id"
                                    },
                                    {
                                        "name": "name"
                                    },
                                    {
                                        "name": "birth_date"
                                    },
                                    {
                                        "name": "sex"
                                    },
                                    {
                                        "name": "salary"
                                    },
                                    {
                                        "name": "branch_id"
                                    },
                                    {
                                        "name": "sup_id"
                                    }
                                ]
                            },
                            "data": [
                                {
                                    "0": "206",
                                    "1": "Yellow",
                                    "2": "1998-10-08",
                                    "3": "F",
                                    "4": "50000",
                                    "5": "1",
                                    "6": "NULL"
                                },
                                {
                                    "0": "207",
                                    "1": "Green",
                                    "2": "1995-09-16",
                                    "3": "F",
                                    "4": "29000",
                                    "5": "2",
                                    "6": "206"
                                },
                                {
                                    "0": "208",
                                    "1": "Black",
                                    "2": "2000-05-08",
                                    "3": "F",
                                    "4": "35000",
                                    "5": "3",
                                    "6": "206"
                                },
                                {
                                    "0": "209",
                                    "1": "White",
                                    "2": "1997-04-12",
                                    "3": "F",
                                    "4": "39000",
                                    "5": "3",
                                    "6": "207"
                                },
                                {
                                    "0": "210",
                                    "1": "Blue",
                                    "2": "1928-11-10",
                                    "3": "F",
                                    "4": "84000",
                                    "5": "1",
                                    "6": "207"
                                }
                            ]
                        },
                        "text/html": [
                            "<table>",
                            "<tr><th>emp_id</th><th>name</th><th>birth_date</th><th>sex</th><th>salary</th><th>branch_id</th><th>sup_id</th></tr>",
                            "<tr><td>206</td><td>Yellow</td><td>1998-10-08</td><td>F</td><td>50000</td><td>1</td><td>NULL</td></tr>",
                            "<tr><td>207</td><td>Green</td><td>1995-09-16</td><td>F</td><td>29000</td><td>2</td><td>206</td></tr>",
                            "<tr><td>208</td><td>Black</td><td>2000-05-08</td><td>F</td><td>35000</td><td>3</td><td>206</td></tr>",
                            "<tr><td>209</td><td>White</td><td>1997-04-12</td><td>F</td><td>39000</td><td>3</td><td>207</td></tr>",
                            "<tr><td>210</td><td>Blue</td><td>1928-11-10</td><td>F</td><td>84000</td><td>1</td><td>207</td></tr>",
                            "</table>"
                        ]
                    }
                },
                {
                    "output_type": "execute_result",
                    "metadata": {},
                    "execution_count": 42,
                    "data": {
                        "application/vnd.dataresource+json": {
                            "schema": {
                                "fields": [
                                    {
                                        "name": "branch_id"
                                    },
                                    {
                                        "name": "branch_name"
                                    },
                                    {
                                        "name": "manager_id"
                                    }
                                ]
                            },
                            "data": [
                                {
                                    "0": "1",
                                    "1": "R&D",
                                    "2": "206"
                                },
                                {
                                    "0": "2",
                                    "1": "Operation",
                                    "2": "207"
                                },
                                {
                                    "0": "3",
                                    "1": "Information",
                                    "2": "208"
                                }
                            ]
                        },
                        "text/html": [
                            "<table>",
                            "<tr><th>branch_id</th><th>branch_name</th><th>manager_id</th></tr>",
                            "<tr><td>1</td><td>R&amp;D</td><td>206</td></tr>",
                            "<tr><td>2</td><td>Operation</td><td>207</td></tr>",
                            "<tr><td>3</td><td>Information</td><td>208</td></tr>",
                            "</table>"
                        ]
                    }
                }
            ],
            "execution_count": 42
        },
        {
            "cell_type": "code",
            "source": [
                "select pa.branch_id, branch_name, emp_id, salary from branch\n",
                "OUTER APPLY(\n",
                "    select top 1 * from employee\n",
                "    where employee.branch_id = branch.branch_id\n",
                "    ORDER BY salary DESC\n",
                ")pa"
            ],
            "metadata": {
                "language": "sql",
                "azdata_cell_guid": "9450454f-aa2d-419d-b19c-401d062c5bb5",
                "tags": []
            },
            "outputs": [
                {
                    "output_type": "display_data",
                    "data": {
                        "text/html": "(3 rows affected)"
                    },
                    "metadata": {}
                },
                {
                    "output_type": "display_data",
                    "data": {
                        "text/html": "Total execution time: 00:00:00.007"
                    },
                    "metadata": {}
                },
                {
                    "output_type": "execute_result",
                    "metadata": {},
                    "execution_count": 43,
                    "data": {
                        "application/vnd.dataresource+json": {
                            "schema": {
                                "fields": [
                                    {
                                        "name": "branch_id"
                                    },
                                    {
                                        "name": "branch_name"
                                    },
                                    {
                                        "name": "emp_id"
                                    },
                                    {
                                        "name": "salary"
                                    }
                                ]
                            },
                            "data": [
                                {
                                    "0": "1",
                                    "1": "R&D",
                                    "2": "210",
                                    "3": "84000"
                                },
                                {
                                    "0": "2",
                                    "1": "Operation",
                                    "2": "207",
                                    "3": "29000"
                                },
                                {
                                    "0": "3",
                                    "1": "Information",
                                    "2": "209",
                                    "3": "39000"
                                }
                            ]
                        },
                        "text/html": [
                            "<table>",
                            "<tr><th>branch_id</th><th>branch_name</th><th>emp_id</th><th>salary</th></tr>",
                            "<tr><td>1</td><td>R&amp;D</td><td>210</td><td>84000</td></tr>",
                            "<tr><td>2</td><td>Operation</td><td>207</td><td>29000</td></tr>",
                            "<tr><td>3</td><td>Information</td><td>209</td><td>39000</td></tr>",
                            "</table>"
                        ]
                    }
                }
            ],
            "execution_count": 43
        }
    ]
}