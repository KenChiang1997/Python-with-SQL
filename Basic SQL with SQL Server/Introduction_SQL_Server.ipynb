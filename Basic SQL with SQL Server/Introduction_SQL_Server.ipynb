{
    "metadata": {
        "kernelspec": {
            "name": "SQL",
            "display_name": "SQL",
            "language": "sql"
        },
        "language_info": {
            "name": "sql",
            "version": ""
        }
    },
    "nbformat_minor": 2,
    "nbformat": 4,
    "cells": [
        {
            "cell_type": "code",
            "source": [
                "USE SQL_Tutorial\n",
                "GO"
            ],
            "metadata": {
                "azdata_cell_guid": "362b0543-7c07-425e-861c-cfe82033b7fe",
                "language": "sql"
            },
            "outputs": [
                {
                    "output_type": "display_data",
                    "data": {
                        "text/html": "Commands completed successfully."
                    },
                    "metadata": {}
                },
                {
                    "output_type": "display_data",
                    "data": {
                        "text/html": "Total execution time: 00:00:00.006"
                    },
                    "metadata": {}
                }
            ],
            "execution_count": 5
        },
        {
            "cell_type": "code",
            "source": [
                "DROP TABLE student_table \n",
                "\n",
                "CREATE TABLE student_table(\n",
                "\tstudent_id INT,\n",
                "    name VARCHAR(20) NOT NULL,\n",
                "    major VARCHAR(20) DEFAULT '歷史',\n",
                "    PRIMARY KEY(student_id)\n",
                ")"
            ],
            "metadata": {
                "azdata_cell_guid": "37f9e75a-e027-4faf-9f63-99ab789b3db4",
                "language": "sql"
            },
            "outputs": [
                {
                    "output_type": "display_data",
                    "data": {
                        "text/html": "Commands completed successfully."
                    },
                    "metadata": {}
                },
                {
                    "output_type": "display_data",
                    "data": {
                        "text/html": "Total execution time: 00:00:00.018"
                    },
                    "metadata": {}
                }
            ],
            "execution_count": 2
        },
        {
            "cell_type": "code",
            "source": [
                "SELECT * FROM student_table;"
            ],
            "metadata": {
                "azdata_cell_guid": "5c0092a4-1101-4a1d-ad8b-77e6ef519dd8",
                "language": "sql"
            },
            "outputs": [
                {
                    "output_type": "display_data",
                    "data": {
                        "text/html": "(0 rows affected)"
                    },
                    "metadata": {}
                },
                {
                    "output_type": "display_data",
                    "data": {
                        "text/html": "Total execution time: 00:00:00.010"
                    },
                    "metadata": {}
                },
                {
                    "output_type": "execute_result",
                    "metadata": {},
                    "execution_count": 3,
                    "data": {
                        "application/vnd.dataresource+json": {
                            "schema": {
                                "fields": [
                                    {
                                        "name": "student_id"
                                    },
                                    {
                                        "name": "name"
                                    },
                                    {
                                        "name": "major"
                                    }
                                ]
                            },
                            "data": []
                        },
                        "text/html": [
                            "<table>",
                            "<tr><th>student_id</th><th>name</th><th>major</th></tr>",
                            "</table>"
                        ]
                    }
                }
            ],
            "execution_count": 3
        },
        {
            "cell_type": "code",
            "source": [
                "INSERT INTO student_table VALUES(1,'white' ,'history');\n",
                "INSERT INTO student_table VALUES(2,'black' , 'english');\n",
                "INSERT INTO student_table VALUES(3,'yellow',NULL );"
            ],
            "metadata": {
                "azdata_cell_guid": "0f13596b-bb76-410c-b3c2-e5bf773c9c8f",
                "language": "sql"
            },
            "outputs": [
                {
                    "output_type": "display_data",
                    "data": {
                        "text/html": "(1 row affected)"
                    },
                    "metadata": {}
                },
                {
                    "output_type": "display_data",
                    "data": {
                        "text/html": "(1 row affected)"
                    },
                    "metadata": {}
                },
                {
                    "output_type": "display_data",
                    "data": {
                        "text/html": "(1 row affected)"
                    },
                    "metadata": {}
                },
                {
                    "output_type": "display_data",
                    "data": {
                        "text/html": "Total execution time: 00:00:00.028"
                    },
                    "metadata": {}
                }
            ],
            "execution_count": 4
        },
        {
            "cell_type": "code",
            "source": [
                "SELECT * FROM student_table;"
            ],
            "metadata": {
                "language": "sql",
                "azdata_cell_guid": "75996588-900c-4115-927f-8deb64a57413"
            },
            "outputs": [
                {
                    "output_type": "display_data",
                    "data": {
                        "text/html": "(3 rows affected)"
                    },
                    "metadata": {}
                },
                {
                    "output_type": "display_data",
                    "data": {
                        "text/html": "Total execution time: 00:00:00.011"
                    },
                    "metadata": {}
                },
                {
                    "output_type": "execute_result",
                    "metadata": {},
                    "execution_count": 5,
                    "data": {
                        "application/vnd.dataresource+json": {
                            "schema": {
                                "fields": [
                                    {
                                        "name": "student_id"
                                    },
                                    {
                                        "name": "name"
                                    },
                                    {
                                        "name": "major"
                                    }
                                ]
                            },
                            "data": [
                                {
                                    "0": "1",
                                    "1": "white",
                                    "2": "history"
                                },
                                {
                                    "0": "2",
                                    "1": "black",
                                    "2": "english"
                                },
                                {
                                    "0": "3",
                                    "1": "yellow",
                                    "2": "NULL"
                                }
                            ]
                        },
                        "text/html": [
                            "<table>",
                            "<tr><th>student_id</th><th>name</th><th>major</th></tr>",
                            "<tr><td>1</td><td>white</td><td>history</td></tr>",
                            "<tr><td>2</td><td>black</td><td>english</td></tr>",
                            "<tr><td>3</td><td>yellow</td><td>NULL</td></tr>",
                            "</table>"
                        ]
                    }
                }
            ],
            "execution_count": 5
        },
        {
            "cell_type": "code",
            "source": [
                "SELECT * FROM student_table\n",
                "ORDER BY student_id DESC"
            ],
            "metadata": {
                "language": "sql",
                "azdata_cell_guid": "0ceb5900-4fe1-4911-9c99-dda8b3abcaf8"
            },
            "outputs": [
                {
                    "output_type": "display_data",
                    "data": {
                        "text/html": "(3 rows affected)"
                    },
                    "metadata": {}
                },
                {
                    "output_type": "display_data",
                    "data": {
                        "text/html": "Total execution time: 00:00:00.041"
                    },
                    "metadata": {}
                },
                {
                    "output_type": "execute_result",
                    "metadata": {},
                    "execution_count": 6,
                    "data": {
                        "application/vnd.dataresource+json": {
                            "schema": {
                                "fields": [
                                    {
                                        "name": "student_id"
                                    },
                                    {
                                        "name": "name"
                                    },
                                    {
                                        "name": "major"
                                    }
                                ]
                            },
                            "data": [
                                {
                                    "0": "3",
                                    "1": "yellow",
                                    "2": "NULL"
                                },
                                {
                                    "0": "2",
                                    "1": "black",
                                    "2": "english"
                                },
                                {
                                    "0": "1",
                                    "1": "white",
                                    "2": "history"
                                }
                            ]
                        },
                        "text/html": [
                            "<table>",
                            "<tr><th>student_id</th><th>name</th><th>major</th></tr>",
                            "<tr><td>3</td><td>yellow</td><td>NULL</td></tr>",
                            "<tr><td>2</td><td>black</td><td>english</td></tr>",
                            "<tr><td>1</td><td>white</td><td>history</td></tr>",
                            "</table>"
                        ]
                    }
                }
            ],
            "execution_count": 6
        }
    ]
}