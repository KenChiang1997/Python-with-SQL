{
 "cells": [
  {
   "cell_type": "code",
   "execution_count": 3,
   "metadata": {},
   "outputs": [],
   "source": [
    "import os\n",
    "import numpy as np \n",
    "import pandas as pd\n",
    "\n",
    "import mysql.connector\n",
    "from mysql.connector import Error"
   ]
  },
  {
   "cell_type": "code",
   "execution_count": 2,
   "metadata": {},
   "outputs": [
    {
     "data": {
      "text/plain": [
       "<mysql.connector.cursor.MySQLCursor at 0x7fba599c79a0>"
      ]
     },
     "execution_count": 2,
     "metadata": {},
     "output_type": "execute_result"
    }
   ],
   "source": [
    "connection = mysql.connector.connect(\n",
    "        host='127.0.0.1',          # Host Name\n",
    "        database='sql_tutorial',   # Schemas in MySQL a.k.a Database\n",
    "        user='root',               # Username\n",
    "        password='****')     # Password when connect to MySQL\n",
    "\n",
    "cursor = connection.cursor()\n",
    "\n",
    "cursor.execute(\"SELECT * FROM student;\") # use sql in execute() function.\n",
    "cursor.fetchall() # Print all Datapoint."
   ]
  },
  {
   "cell_type": "markdown",
   "metadata": {},
   "source": [
    "# ***Lambda Apply Custom Function***"
   ]
  },
  {
   "cell_type": "markdown",
   "metadata": {},
   "source": [
    "    - In Python, we can use df.apply(lambda x : function(x)) to conduct customize transformation "
   ]
  },
  {
   "cell_type": "code",
   "execution_count": 6,
   "metadata": {},
   "outputs": [
    {
     "data": {
      "text/html": [
       "<div>\n",
       "<style scoped>\n",
       "    .dataframe tbody tr th:only-of-type {\n",
       "        vertical-align: middle;\n",
       "    }\n",
       "\n",
       "    .dataframe tbody tr th {\n",
       "        vertical-align: top;\n",
       "    }\n",
       "\n",
       "    .dataframe thead th {\n",
       "        text-align: right;\n",
       "    }\n",
       "</style>\n",
       "<table border=\"1\" class=\"dataframe\">\n",
       "  <thead>\n",
       "    <tr style=\"text-align: right;\">\n",
       "      <th></th>\n",
       "      <th>student_id</th>\n",
       "      <th>name</th>\n",
       "      <th>major</th>\n",
       "      <th>score</th>\n",
       "    </tr>\n",
       "  </thead>\n",
       "  <tbody>\n",
       "    <tr>\n",
       "      <th>0</th>\n",
       "      <td>1</td>\n",
       "      <td>小子</td>\n",
       "      <td>英語</td>\n",
       "      <td>20</td>\n",
       "    </tr>\n",
       "    <tr>\n",
       "      <th>1</th>\n",
       "      <td>2</td>\n",
       "      <td>小光</td>\n",
       "      <td>英語</td>\n",
       "      <td>30</td>\n",
       "    </tr>\n",
       "    <tr>\n",
       "      <th>2</th>\n",
       "      <td>3</td>\n",
       "      <td>小志</td>\n",
       "      <td>化學</td>\n",
       "      <td>40</td>\n",
       "    </tr>\n",
       "    <tr>\n",
       "      <th>3</th>\n",
       "      <td>4</td>\n",
       "      <td>小綠</td>\n",
       "      <td>英語</td>\n",
       "      <td>90</td>\n",
       "    </tr>\n",
       "    <tr>\n",
       "      <th>4</th>\n",
       "      <td>5</td>\n",
       "      <td>小美</td>\n",
       "      <td>英語</td>\n",
       "      <td>60</td>\n",
       "    </tr>\n",
       "    <tr>\n",
       "      <th>5</th>\n",
       "      <td>6</td>\n",
       "      <td>小美</td>\n",
       "      <td>化學</td>\n",
       "      <td>60</td>\n",
       "    </tr>\n",
       "  </tbody>\n",
       "</table>\n",
       "</div>"
      ],
      "text/plain": [
       "   student_id name major  score\n",
       "0           1   小子    英語     20\n",
       "1           2   小光    英語     30\n",
       "2           3   小志    化學     40\n",
       "3           4   小綠    英語     90\n",
       "4           5   小美    英語     60\n",
       "5           6   小美    化學     60"
      ]
     },
     "execution_count": 6,
     "metadata": {},
     "output_type": "execute_result"
    }
   ],
   "source": [
    "student_sql_df = pd.read_sql_query(\"SELECT * FROM student;\",connection)\n",
    "student_sql_df"
   ]
  },
  {
   "cell_type": "code",
   "execution_count": 14,
   "metadata": {},
   "outputs": [
    {
     "data": {
      "text/html": [
       "<div>\n",
       "<style scoped>\n",
       "    .dataframe tbody tr th:only-of-type {\n",
       "        vertical-align: middle;\n",
       "    }\n",
       "\n",
       "    .dataframe tbody tr th {\n",
       "        vertical-align: top;\n",
       "    }\n",
       "\n",
       "    .dataframe thead th {\n",
       "        text-align: right;\n",
       "    }\n",
       "</style>\n",
       "<table border=\"1\" class=\"dataframe\">\n",
       "  <thead>\n",
       "    <tr style=\"text-align: right;\">\n",
       "      <th></th>\n",
       "      <th>student_id</th>\n",
       "      <th>name</th>\n",
       "      <th>major</th>\n",
       "      <th>score</th>\n",
       "      <th>mynote</th>\n",
       "    </tr>\n",
       "  </thead>\n",
       "  <tbody>\n",
       "    <tr>\n",
       "      <th>0</th>\n",
       "      <td>1</td>\n",
       "      <td>小子</td>\n",
       "      <td>英語</td>\n",
       "      <td>20</td>\n",
       "      <td>Fail...</td>\n",
       "    </tr>\n",
       "    <tr>\n",
       "      <th>1</th>\n",
       "      <td>2</td>\n",
       "      <td>小光</td>\n",
       "      <td>英語</td>\n",
       "      <td>30</td>\n",
       "      <td>Fail...</td>\n",
       "    </tr>\n",
       "    <tr>\n",
       "      <th>2</th>\n",
       "      <td>3</td>\n",
       "      <td>小志</td>\n",
       "      <td>化學</td>\n",
       "      <td>40</td>\n",
       "      <td>Fail...</td>\n",
       "    </tr>\n",
       "    <tr>\n",
       "      <th>3</th>\n",
       "      <td>4</td>\n",
       "      <td>小綠</td>\n",
       "      <td>英語</td>\n",
       "      <td>90</td>\n",
       "      <td>Good~</td>\n",
       "    </tr>\n",
       "    <tr>\n",
       "      <th>4</th>\n",
       "      <td>5</td>\n",
       "      <td>小美</td>\n",
       "      <td>英語</td>\n",
       "      <td>60</td>\n",
       "      <td>Good~</td>\n",
       "    </tr>\n",
       "    <tr>\n",
       "      <th>5</th>\n",
       "      <td>6</td>\n",
       "      <td>小美</td>\n",
       "      <td>化學</td>\n",
       "      <td>60</td>\n",
       "      <td>Good~</td>\n",
       "    </tr>\n",
       "  </tbody>\n",
       "</table>\n",
       "</div>"
      ],
      "text/plain": [
       "   student_id name major  score   mynote\n",
       "0           1   小子    英語     20  Fail...\n",
       "1           2   小光    英語     30  Fail...\n",
       "2           3   小志    化學     40  Fail...\n",
       "3           4   小綠    英語     90    Good~\n",
       "4           5   小美    英語     60    Good~\n",
       "5           6   小美    化學     60    Good~"
      ]
     },
     "execution_count": 14,
     "metadata": {},
     "output_type": "execute_result"
    }
   ],
   "source": [
    "def score_classifiction(score):\n",
    "\n",
    "    if score < 60:\n",
    "        return \"Fail...\"\n",
    "\n",
    "    elif score >= 60 & score < 80:\n",
    "        return \"Good~\"\n",
    "    \n",
    "    elif score > 80:\n",
    "        return \"Excellent\"\n",
    "    \n",
    "    else:\n",
    "        return \"Unclear\"\n",
    "\n",
    "\n",
    "student_sql_df['mynote'] = student_sql_df.apply(lambda x: score_classifiction(x['score']),axis=1)\n",
    "student_sql_df"
   ]
  },
  {
   "cell_type": "markdown",
   "metadata": {},
   "source": [
    "    - In MySQL, we can also built customize function and utlize when we need it."
   ]
  },
  {
   "cell_type": "markdown",
   "metadata": {},
   "source": [
    "<img src=\"/Users/chen-lichiang/Desktop/SQL/Module/SQL Function Construction.png\" alt=\"Getting started\" width=\"600\" height=\"400\"/>"
   ]
  },
  {
   "cell_type": "code",
   "execution_count": 16,
   "metadata": {},
   "outputs": [
    {
     "data": {
      "text/html": [
       "<div>\n",
       "<style scoped>\n",
       "    .dataframe tbody tr th:only-of-type {\n",
       "        vertical-align: middle;\n",
       "    }\n",
       "\n",
       "    .dataframe tbody tr th {\n",
       "        vertical-align: top;\n",
       "    }\n",
       "\n",
       "    .dataframe thead th {\n",
       "        text-align: right;\n",
       "    }\n",
       "</style>\n",
       "<table border=\"1\" class=\"dataframe\">\n",
       "  <thead>\n",
       "    <tr style=\"text-align: right;\">\n",
       "      <th></th>\n",
       "      <th>student_id</th>\n",
       "      <th>name</th>\n",
       "      <th>major</th>\n",
       "      <th>score</th>\n",
       "      <th>mynote</th>\n",
       "    </tr>\n",
       "  </thead>\n",
       "  <tbody>\n",
       "    <tr>\n",
       "      <th>0</th>\n",
       "      <td>1</td>\n",
       "      <td>小子</td>\n",
       "      <td>英語</td>\n",
       "      <td>20</td>\n",
       "      <td>Fail...</td>\n",
       "    </tr>\n",
       "    <tr>\n",
       "      <th>1</th>\n",
       "      <td>2</td>\n",
       "      <td>小光</td>\n",
       "      <td>英語</td>\n",
       "      <td>30</td>\n",
       "      <td>Fail...</td>\n",
       "    </tr>\n",
       "    <tr>\n",
       "      <th>2</th>\n",
       "      <td>3</td>\n",
       "      <td>小志</td>\n",
       "      <td>化學</td>\n",
       "      <td>40</td>\n",
       "      <td>Fail...</td>\n",
       "    </tr>\n",
       "    <tr>\n",
       "      <th>3</th>\n",
       "      <td>4</td>\n",
       "      <td>小綠</td>\n",
       "      <td>英語</td>\n",
       "      <td>90</td>\n",
       "      <td>Excellent</td>\n",
       "    </tr>\n",
       "    <tr>\n",
       "      <th>4</th>\n",
       "      <td>5</td>\n",
       "      <td>小美</td>\n",
       "      <td>英語</td>\n",
       "      <td>60</td>\n",
       "      <td>Good~</td>\n",
       "    </tr>\n",
       "    <tr>\n",
       "      <th>5</th>\n",
       "      <td>6</td>\n",
       "      <td>小美</td>\n",
       "      <td>化學</td>\n",
       "      <td>60</td>\n",
       "      <td>Good~</td>\n",
       "    </tr>\n",
       "  </tbody>\n",
       "</table>\n",
       "</div>"
      ],
      "text/plain": [
       "   student_id name major  score     mynote\n",
       "0           1   小子    英語     20    Fail...\n",
       "1           2   小光    英語     30    Fail...\n",
       "2           3   小志    化學     40    Fail...\n",
       "3           4   小綠    英語     90  Excellent\n",
       "4           5   小美    英語     60      Good~\n",
       "5           6   小美    化學     60      Good~"
      ]
     },
     "execution_count": 16,
     "metadata": {},
     "output_type": "execute_result"
    }
   ],
   "source": [
    "pd.read_sql_query(\n",
    "    \"SELECT *,gradeitem(`student`.`score`) as `mynote` FROM student;\"\n",
    "    ,connection)"
   ]
  }
 ],
 "metadata": {
  "kernelspec": {
   "display_name": "Python 3.8.8 ('base')",
   "language": "python",
   "name": "python3"
  },
  "language_info": {
   "codemirror_mode": {
    "name": "ipython",
    "version": 3
   },
   "file_extension": ".py",
   "mimetype": "text/x-python",
   "name": "python",
   "nbconvert_exporter": "python",
   "pygments_lexer": "ipython3",
   "version": "3.8.8"
  },
  "orig_nbformat": 4,
  "vscode": {
   "interpreter": {
    "hash": "c0a47dea00d570f92464afe46ffe5c2d4af344b6609508936a381314dfab973c"
   }
  }
 },
 "nbformat": 4,
 "nbformat_minor": 2
}
