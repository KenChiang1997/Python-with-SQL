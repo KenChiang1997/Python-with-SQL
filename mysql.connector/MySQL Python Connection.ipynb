{
 "cells": [
  {
   "cell_type": "code",
   "execution_count": 1,
   "metadata": {},
   "outputs": [],
   "source": [
    "import os\n",
    "import numpy as np \n",
    "import pandas as pd"
   ]
  },
  {
   "cell_type": "markdown",
   "metadata": {},
   "source": [
    "# 1.) Using MySQL.Connector to MySQLWorkbench\n",
    "    - Connect to MySQL\n",
    "    - Print Database Information \n",
    "    - Select Schemas(Database)\n",
    "    - Disconnect from MySQL\n",
    "\n",
    "Reference: https://dev.mysql.com/doc/connector-python/en/"
   ]
  },
  {
   "cell_type": "code",
   "execution_count": 2,
   "metadata": {},
   "outputs": [],
   "source": [
    "import mysql.connector\n",
    "from mysql.connector import Error"
   ]
  },
  {
   "cell_type": "markdown",
   "metadata": {},
   "source": [
    "<img src=\"/Users/chen-lichiang/Desktop/SQL/Module/Example of Connection.png\" alt=\"Getting started\" width=\"600\" height=\"400\"/>"
   ]
  },
  {
   "cell_type": "code",
   "execution_count": 3,
   "metadata": {},
   "outputs": [
    {
     "name": "stdout",
     "output_type": "stream",
     "text": [
      "Database information： 8.0.25\n",
      "Current Selected Database： ('sql_tutorial',)\n",
      "Disconnect to Databse 8.0.25\n"
     ]
    }
   ],
   "source": [
    "try:\n",
    "    # Connect to MySQL\n",
    "    connection = mysql.connector.connect(\n",
    "        host='127.0.0.1',          # Host Name\n",
    "        database='sql_tutorial',   # Schemas in MySQL a.k.a Database\n",
    "        user='root',               # Username\n",
    "        password='****')           # Password when connect to MySQL\n",
    "\n",
    "    if connection.is_connected():\n",
    "\n",
    "        # Print current database version\n",
    "        db_Info = connection.get_server_info()\n",
    "        print(\"Database information：\", db_Info)\n",
    "\n",
    "        # Print current selected database\n",
    "        cursor = connection.cursor()\n",
    "        cursor.execute(\"SELECT DATABASE();\")\n",
    "        record = cursor.fetchone()\n",
    "        print(\"Current Selected Database：\", record)\n",
    "\n",
    "except Error as e:\n",
    "    print(\"Connection file：\", e)\n",
    "\n",
    "finally:\n",
    "    if (connection.is_connected()):\n",
    "        cursor.close()\n",
    "        connection.close()\n",
    "        print(\"Disconnect to Databse\",db_Info)"
   ]
  },
  {
   "cell_type": "markdown",
   "metadata": {},
   "source": [
    "# 2.) mysql.connector select data"
   ]
  },
  {
   "cell_type": "code",
   "execution_count": 20,
   "metadata": {},
   "outputs": [
    {
     "data": {
      "text/plain": [
       "[(1, '小子', '英語', 20),\n",
       " (2, '小光', '英語', 30),\n",
       " (3, '小志', '化學', 40),\n",
       " (4, '小綠', '英語', 90),\n",
       " (5, '小美', '英語', 60),\n",
       " (6, '小美', '化學', 60)]"
      ]
     },
     "execution_count": 20,
     "metadata": {},
     "output_type": "execute_result"
    }
   ],
   "source": [
    "connection = mysql.connector.connect(\n",
    "        host='127.0.0.1',          # Host Name\n",
    "        database='sql_tutorial',   # Schemas in MySQL a.k.a Database\n",
    "        user='root',               # Username\n",
    "        password='****')     # Password when connect to MySQL\n",
    "\n",
    "cursor = connection.cursor()\n",
    "\n",
    "cursor.execute(\"SELECT * FROM student;\") # use sql in execute() function.\n",
    "cursor.fetchall() # Print all Datapoint."
   ]
  },
  {
   "cell_type": "markdown",
   "metadata": {},
   "source": [
    "- using pandas to read sql data"
   ]
  },
  {
   "cell_type": "code",
   "execution_count": 29,
   "metadata": {},
   "outputs": [
    {
     "data": {
      "text/html": [
       "<div>\n",
       "<style scoped>\n",
       "    .dataframe tbody tr th:only-of-type {\n",
       "        vertical-align: middle;\n",
       "    }\n",
       "\n",
       "    .dataframe tbody tr th {\n",
       "        vertical-align: top;\n",
       "    }\n",
       "\n",
       "    .dataframe thead th {\n",
       "        text-align: right;\n",
       "    }\n",
       "</style>\n",
       "<table border=\"1\" class=\"dataframe\">\n",
       "  <thead>\n",
       "    <tr style=\"text-align: right;\">\n",
       "      <th></th>\n",
       "      <th>student_id</th>\n",
       "      <th>name</th>\n",
       "      <th>major</th>\n",
       "      <th>score</th>\n",
       "    </tr>\n",
       "  </thead>\n",
       "  <tbody>\n",
       "    <tr>\n",
       "      <th>0</th>\n",
       "      <td>1</td>\n",
       "      <td>小子</td>\n",
       "      <td>英語</td>\n",
       "      <td>20</td>\n",
       "    </tr>\n",
       "    <tr>\n",
       "      <th>1</th>\n",
       "      <td>2</td>\n",
       "      <td>小光</td>\n",
       "      <td>英語</td>\n",
       "      <td>30</td>\n",
       "    </tr>\n",
       "    <tr>\n",
       "      <th>2</th>\n",
       "      <td>3</td>\n",
       "      <td>小志</td>\n",
       "      <td>化學</td>\n",
       "      <td>40</td>\n",
       "    </tr>\n",
       "    <tr>\n",
       "      <th>3</th>\n",
       "      <td>4</td>\n",
       "      <td>小綠</td>\n",
       "      <td>英語</td>\n",
       "      <td>90</td>\n",
       "    </tr>\n",
       "    <tr>\n",
       "      <th>4</th>\n",
       "      <td>5</td>\n",
       "      <td>小美</td>\n",
       "      <td>英語</td>\n",
       "      <td>60</td>\n",
       "    </tr>\n",
       "    <tr>\n",
       "      <th>5</th>\n",
       "      <td>6</td>\n",
       "      <td>小美</td>\n",
       "      <td>化學</td>\n",
       "      <td>60</td>\n",
       "    </tr>\n",
       "  </tbody>\n",
       "</table>\n",
       "</div>"
      ],
      "text/plain": [
       "   student_id name major  score\n",
       "0           1   小子    英語     20\n",
       "1           2   小光    英語     30\n",
       "2           3   小志    化學     40\n",
       "3           4   小綠    英語     90\n",
       "4           5   小美    英語     60\n",
       "5           6   小美    化學     60"
      ]
     },
     "execution_count": 29,
     "metadata": {},
     "output_type": "execute_result"
    }
   ],
   "source": [
    "student_sql_df = pd.read_sql_query(\"SELECT * FROM student;\",connection)\n",
    "student_sql_df"
   ]
  },
  {
   "cell_type": "markdown",
   "metadata": {},
   "source": [
    "- Select certain type using SQL"
   ]
  },
  {
   "cell_type": "code",
   "execution_count": 30,
   "metadata": {},
   "outputs": [
    {
     "name": "stdout",
     "output_type": "stream",
     "text": [
      "Name: 小子, Score: 20\n",
      "Name: 小光, Score: 30\n",
      "Name: 小志, Score: 40\n",
      "Name: 小綠, Score: 90\n",
      "Name: 小美, Score: 60\n",
      "Name: 小美, Score: 60\n"
     ]
    }
   ],
   "source": [
    "cursor.execute(\"SELECT name, score FROM student;\")\n",
    "for (name, score) in cursor:\n",
    "        print(\"Name: %s, Score: %d\" % (name, score))"
   ]
  },
  {
   "cell_type": "markdown",
   "metadata": {},
   "source": [
    "# 3.) Update and Drop data in sql.connector"
   ]
  },
  {
   "cell_type": "code",
   "execution_count": 33,
   "metadata": {},
   "outputs": [
    {
     "data": {
      "text/html": [
       "<div>\n",
       "<style scoped>\n",
       "    .dataframe tbody tr th:only-of-type {\n",
       "        vertical-align: middle;\n",
       "    }\n",
       "\n",
       "    .dataframe tbody tr th {\n",
       "        vertical-align: top;\n",
       "    }\n",
       "\n",
       "    .dataframe thead th {\n",
       "        text-align: right;\n",
       "    }\n",
       "</style>\n",
       "<table border=\"1\" class=\"dataframe\">\n",
       "  <thead>\n",
       "    <tr style=\"text-align: right;\">\n",
       "      <th></th>\n",
       "      <th>student_id</th>\n",
       "      <th>name</th>\n",
       "      <th>major</th>\n",
       "      <th>score</th>\n",
       "    </tr>\n",
       "  </thead>\n",
       "  <tbody>\n",
       "    <tr>\n",
       "      <th>0</th>\n",
       "      <td>1</td>\n",
       "      <td>小子</td>\n",
       "      <td>英語文學</td>\n",
       "      <td>20</td>\n",
       "    </tr>\n",
       "    <tr>\n",
       "      <th>1</th>\n",
       "      <td>2</td>\n",
       "      <td>小光</td>\n",
       "      <td>英語文學</td>\n",
       "      <td>30</td>\n",
       "    </tr>\n",
       "    <tr>\n",
       "      <th>2</th>\n",
       "      <td>3</td>\n",
       "      <td>小志</td>\n",
       "      <td>化學</td>\n",
       "      <td>40</td>\n",
       "    </tr>\n",
       "    <tr>\n",
       "      <th>3</th>\n",
       "      <td>4</td>\n",
       "      <td>小綠</td>\n",
       "      <td>英語文學</td>\n",
       "      <td>90</td>\n",
       "    </tr>\n",
       "    <tr>\n",
       "      <th>4</th>\n",
       "      <td>5</td>\n",
       "      <td>小美</td>\n",
       "      <td>英語文學</td>\n",
       "      <td>60</td>\n",
       "    </tr>\n",
       "    <tr>\n",
       "      <th>5</th>\n",
       "      <td>6</td>\n",
       "      <td>小美</td>\n",
       "      <td>化學</td>\n",
       "      <td>60</td>\n",
       "    </tr>\n",
       "  </tbody>\n",
       "</table>\n",
       "</div>"
      ],
      "text/plain": [
       "   student_id name major  score\n",
       "0           1   小子  英語文學     20\n",
       "1           2   小光  英語文學     30\n",
       "2           3   小志    化學     40\n",
       "3           4   小綠  英語文學     90\n",
       "4           5   小美  英語文學     60\n",
       "5           6   小美    化學     60"
      ]
     },
     "execution_count": 33,
     "metadata": {},
     "output_type": "execute_result"
    }
   ],
   "source": [
    "sql = \"UPDATE student SET `major` = '英語文學' WHERE `major` = '英語';\"\n",
    "cursor = connection.cursor()\n",
    "cursor.execute(sql)\n",
    "\n",
    "student_sql_df = pd.read_sql_query(\"SELECT * FROM student;\",connection)\n",
    "student_sql_df"
   ]
  },
  {
   "cell_type": "markdown",
   "metadata": {},
   "source": [
    "- we can point out that '英語' has been transformed to '英語文學'"
   ]
  },
  {
   "cell_type": "markdown",
   "metadata": {},
   "source": [
    "- delete certain row data in sql"
   ]
  },
  {
   "cell_type": "code",
   "execution_count": 35,
   "metadata": {},
   "outputs": [
    {
     "data": {
      "text/html": [
       "<div>\n",
       "<style scoped>\n",
       "    .dataframe tbody tr th:only-of-type {\n",
       "        vertical-align: middle;\n",
       "    }\n",
       "\n",
       "    .dataframe tbody tr th {\n",
       "        vertical-align: top;\n",
       "    }\n",
       "\n",
       "    .dataframe thead th {\n",
       "        text-align: right;\n",
       "    }\n",
       "</style>\n",
       "<table border=\"1\" class=\"dataframe\">\n",
       "  <thead>\n",
       "    <tr style=\"text-align: right;\">\n",
       "      <th></th>\n",
       "      <th>student_id</th>\n",
       "      <th>name</th>\n",
       "      <th>major</th>\n",
       "      <th>score</th>\n",
       "    </tr>\n",
       "  </thead>\n",
       "  <tbody>\n",
       "    <tr>\n",
       "      <th>0</th>\n",
       "      <td>2</td>\n",
       "      <td>小光</td>\n",
       "      <td>英語文學</td>\n",
       "      <td>30</td>\n",
       "    </tr>\n",
       "    <tr>\n",
       "      <th>1</th>\n",
       "      <td>3</td>\n",
       "      <td>小志</td>\n",
       "      <td>化學</td>\n",
       "      <td>40</td>\n",
       "    </tr>\n",
       "    <tr>\n",
       "      <th>2</th>\n",
       "      <td>4</td>\n",
       "      <td>小綠</td>\n",
       "      <td>英語文學</td>\n",
       "      <td>90</td>\n",
       "    </tr>\n",
       "    <tr>\n",
       "      <th>3</th>\n",
       "      <td>5</td>\n",
       "      <td>小美</td>\n",
       "      <td>英語文學</td>\n",
       "      <td>60</td>\n",
       "    </tr>\n",
       "    <tr>\n",
       "      <th>4</th>\n",
       "      <td>6</td>\n",
       "      <td>小美</td>\n",
       "      <td>化學</td>\n",
       "      <td>60</td>\n",
       "    </tr>\n",
       "  </tbody>\n",
       "</table>\n",
       "</div>"
      ],
      "text/plain": [
       "   student_id name major  score\n",
       "0           2   小光  英語文學     30\n",
       "1           3   小志    化學     40\n",
       "2           4   小綠  英語文學     90\n",
       "3           5   小美  英語文學     60\n",
       "4           6   小美    化學     60"
      ]
     },
     "execution_count": 35,
     "metadata": {},
     "output_type": "execute_result"
    }
   ],
   "source": [
    "sql = \"DELETE FROM student WHERE `score` < 30;\"\n",
    "cursor = connection.cursor()\n",
    "cursor.execute(sql)\n",
    "\n",
    "student_sql_df = pd.read_sql_query(\"SELECT * FROM student;\",connection)\n",
    "student_sql_df"
   ]
  },
  {
   "cell_type": "markdown",
   "metadata": {},
   "source": [
    "# 4.) Disconnect from MySQLworkbench"
   ]
  },
  {
   "cell_type": "code",
   "execution_count": 36,
   "metadata": {},
   "outputs": [],
   "source": [
    "if (connection.is_connected()):\n",
    "    cursor.close()\n",
    "    connection.close()"
   ]
  }
 ],
 "metadata": {
  "kernelspec": {
   "display_name": "Python 3.8.8 ('base')",
   "language": "python",
   "name": "python3"
  },
  "language_info": {
   "codemirror_mode": {
    "name": "ipython",
    "version": 3
   },
   "file_extension": ".py",
   "mimetype": "text/x-python",
   "name": "python",
   "nbconvert_exporter": "python",
   "pygments_lexer": "ipython3",
   "version": "3.8.8"
  },
  "orig_nbformat": 4,
  "vscode": {
   "interpreter": {
    "hash": "c0a47dea00d570f92464afe46ffe5c2d4af344b6609508936a381314dfab973c"
   }
  }
 },
 "nbformat": 4,
 "nbformat_minor": 2
}
