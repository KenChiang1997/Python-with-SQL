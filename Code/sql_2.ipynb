{
 "metadata": {
  "language_info": {
   "codemirror_mode": {
    "name": "ipython",
    "version": 3
   },
   "file_extension": ".py",
   "mimetype": "text/x-python",
   "name": "python",
   "nbconvert_exporter": "python",
   "pygments_lexer": "ipython3",
   "version": "3.8.5"
  },
  "orig_nbformat": 2,
  "kernelspec": {
   "name": "python385jvsc74a57bd0dca0ade3e726a953b501b15e8e990130d2b7799f14cfd9f4271676035ebe5511",
   "display_name": "Python 3.8.5 64-bit ('base': conda)"
  }
 },
 "nbformat": 4,
 "nbformat_minor": 2,
 "cells": [
  {
   "source": [
    "# Basic sqllite 3 library tutorial\n",
    " \n",
    "# SQL & Pandas Interaction \n",
    "\n",
    "Outline : \n",
    "\n",
    "1. create DB engine \n",
    "\n",
    "2. read_sql \n",
    "\n",
    "3. to_sql \n",
    "\n",
    "4. pull and store financial in a sql db \n",
    "\n",
    "5. Potential topics\n"
   ],
   "cell_type": "markdown",
   "metadata": {}
  },
  {
   "cell_type": "code",
   "execution_count": 1,
   "metadata": {},
   "outputs": [],
   "source": [
    "import sqlite3\n",
    "import sqlalchemy \n",
    "\n",
    "import numpy as np \n",
    "import pandas as pd "
   ]
  },
  {
   "cell_type": "code",
   "execution_count": 2,
   "metadata": {},
   "outputs": [],
   "source": [
    "engine = sqlalchemy.create_engine('sqlite:///ken_chiang.db')"
   ]
  },
  {
   "source": [
    "# you can ethier condition in query or in python language"
   ],
   "cell_type": "markdown",
   "metadata": {}
  },
  {
   "cell_type": "code",
   "execution_count": 3,
   "metadata": {},
   "outputs": [
    {
     "output_type": "execute_result",
     "data": {
      "text/plain": [
       "      name surname    salary\n",
       "2   Denzel    cook  200000.0\n",
       "3  Maxwell  Foster  120000.0"
      ],
      "text/html": "<div>\n<style scoped>\n    .dataframe tbody tr th:only-of-type {\n        vertical-align: middle;\n    }\n\n    .dataframe tbody tr th {\n        vertical-align: top;\n    }\n\n    .dataframe thead th {\n        text-align: right;\n    }\n</style>\n<table border=\"1\" class=\"dataframe\">\n  <thead>\n    <tr style=\"text-align: right;\">\n      <th></th>\n      <th>name</th>\n      <th>surname</th>\n      <th>salary</th>\n    </tr>\n  </thead>\n  <tbody>\n    <tr>\n      <th>2</th>\n      <td>Denzel</td>\n      <td>cook</td>\n      <td>200000.0</td>\n    </tr>\n    <tr>\n      <th>3</th>\n      <td>Maxwell</td>\n      <td>Foster</td>\n      <td>120000.0</td>\n    </tr>\n  </tbody>\n</table>\n</div>"
     },
     "metadata": {},
     "execution_count": 3
    }
   ],
   "source": [
    "employess = pd.read_sql(\"SELECT * FROM employees WHERE salary > 10 \",engine)\n",
    "\n",
    "employess[employess['salary']>100000]"
   ]
  },
  {
   "cell_type": "code",
   "execution_count": 4,
   "metadata": {},
   "outputs": [
    {
     "output_type": "execute_result",
     "data": {
      "text/plain": [
       "      name surname  salary\n",
       "0  Maxwell  Foster  120000"
      ],
      "text/html": "<div>\n<style scoped>\n    .dataframe tbody tr th:only-of-type {\n        vertical-align: middle;\n    }\n\n    .dataframe tbody tr th {\n        vertical-align: top;\n    }\n\n    .dataframe thead th {\n        text-align: right;\n    }\n</style>\n<table border=\"1\" class=\"dataframe\">\n  <thead>\n    <tr style=\"text-align: right;\">\n      <th></th>\n      <th>name</th>\n      <th>surname</th>\n      <th>salary</th>\n    </tr>\n  </thead>\n  <tbody>\n    <tr>\n      <th>0</th>\n      <td>Maxwell</td>\n      <td>Foster</td>\n      <td>120000</td>\n    </tr>\n  </tbody>\n</table>\n</div>"
     },
     "metadata": {},
     "execution_count": 4
    }
   ],
   "source": [
    "df1 = pd.DataFrame({\n",
    "    \"name\":'Maxwell',\n",
    "    'surname':\"Foster\",\n",
    "    \"salary\":[120000]\n",
    "})\n",
    "\n",
    "df1"
   ]
  },
  {
   "cell_type": "code",
   "execution_count": 6,
   "metadata": {},
   "outputs": [],
   "source": [
    "df1.to_sql('employees',engine,if_exists='append',index=False)"
   ]
  },
  {
   "cell_type": "code",
   "execution_count": 7,
   "metadata": {},
   "outputs": [],
   "source": [
    "df1.to_sql('employees',engine,if_exists='replace',index=False)"
   ]
  },
  {
   "cell_type": "code",
   "execution_count": 9,
   "metadata": {},
   "outputs": [
    {
     "output_type": "execute_result",
     "data": {
      "text/plain": [
       "                  High         Low        Open       Close    Volume  \\\n",
       "Date                                                                   \n",
       "2020-12-31   19.799999   18.799999   19.250000   18.840000   6922700   \n",
       "2021-01-04   19.100000   17.150000   19.000000   17.250000  10022500   \n",
       "2021-01-05   18.080000   17.230000   17.350000   17.370001   4961500   \n",
       "2021-01-06   18.980000   17.330000   17.340000   18.360001   6056200   \n",
       "2021-01-07   19.450001   18.020000   18.469999   18.080000   6129300   \n",
       "...                ...         ...         ...         ...       ...   \n",
       "2021-05-18  189.199997  168.270004  174.539993  180.669998   7738700   \n",
       "2021-05-19  178.979996  164.149994  171.990005  168.830002   4825900   \n",
       "2021-05-20  174.910004  166.899994  170.789993  170.490005   2478200   \n",
       "2021-05-21  179.240005  170.330002  171.000000  176.789993   3648400   \n",
       "2021-05-24  188.457596  173.350006  175.850006  180.009995   4633820   \n",
       "\n",
       "             Adj Close  \n",
       "Date                    \n",
       "2020-12-31   18.840000  \n",
       "2021-01-04   17.250000  \n",
       "2021-01-05   17.370001  \n",
       "2021-01-06   18.360001  \n",
       "2021-01-07   18.080000  \n",
       "...                ...  \n",
       "2021-05-18  180.669998  \n",
       "2021-05-19  168.830002  \n",
       "2021-05-20  170.490005  \n",
       "2021-05-21  176.789993  \n",
       "2021-05-24  180.009995  \n",
       "\n",
       "[99 rows x 6 columns]"
      ],
      "text/html": "<div>\n<style scoped>\n    .dataframe tbody tr th:only-of-type {\n        vertical-align: middle;\n    }\n\n    .dataframe tbody tr th {\n        vertical-align: top;\n    }\n\n    .dataframe thead th {\n        text-align: right;\n    }\n</style>\n<table border=\"1\" class=\"dataframe\">\n  <thead>\n    <tr style=\"text-align: right;\">\n      <th></th>\n      <th>High</th>\n      <th>Low</th>\n      <th>Open</th>\n      <th>Close</th>\n      <th>Volume</th>\n      <th>Adj Close</th>\n    </tr>\n    <tr>\n      <th>Date</th>\n      <th></th>\n      <th></th>\n      <th></th>\n      <th></th>\n      <th></th>\n      <th></th>\n    </tr>\n  </thead>\n  <tbody>\n    <tr>\n      <th>2020-12-31</th>\n      <td>19.799999</td>\n      <td>18.799999</td>\n      <td>19.250000</td>\n      <td>18.840000</td>\n      <td>6922700</td>\n      <td>18.840000</td>\n    </tr>\n    <tr>\n      <th>2021-01-04</th>\n      <td>19.100000</td>\n      <td>17.150000</td>\n      <td>19.000000</td>\n      <td>17.250000</td>\n      <td>10022500</td>\n      <td>17.250000</td>\n    </tr>\n    <tr>\n      <th>2021-01-05</th>\n      <td>18.080000</td>\n      <td>17.230000</td>\n      <td>17.350000</td>\n      <td>17.370001</td>\n      <td>4961500</td>\n      <td>17.370001</td>\n    </tr>\n    <tr>\n      <th>2021-01-06</th>\n      <td>18.980000</td>\n      <td>17.330000</td>\n      <td>17.340000</td>\n      <td>18.360001</td>\n      <td>6056200</td>\n      <td>18.360001</td>\n    </tr>\n    <tr>\n      <th>2021-01-07</th>\n      <td>19.450001</td>\n      <td>18.020000</td>\n      <td>18.469999</td>\n      <td>18.080000</td>\n      <td>6129300</td>\n      <td>18.080000</td>\n    </tr>\n    <tr>\n      <th>...</th>\n      <td>...</td>\n      <td>...</td>\n      <td>...</td>\n      <td>...</td>\n      <td>...</td>\n      <td>...</td>\n    </tr>\n    <tr>\n      <th>2021-05-18</th>\n      <td>189.199997</td>\n      <td>168.270004</td>\n      <td>174.539993</td>\n      <td>180.669998</td>\n      <td>7738700</td>\n      <td>180.669998</td>\n    </tr>\n    <tr>\n      <th>2021-05-19</th>\n      <td>178.979996</td>\n      <td>164.149994</td>\n      <td>171.990005</td>\n      <td>168.830002</td>\n      <td>4825900</td>\n      <td>168.830002</td>\n    </tr>\n    <tr>\n      <th>2021-05-20</th>\n      <td>174.910004</td>\n      <td>166.899994</td>\n      <td>170.789993</td>\n      <td>170.490005</td>\n      <td>2478200</td>\n      <td>170.490005</td>\n    </tr>\n    <tr>\n      <th>2021-05-21</th>\n      <td>179.240005</td>\n      <td>170.330002</td>\n      <td>171.000000</td>\n      <td>176.789993</td>\n      <td>3648400</td>\n      <td>176.789993</td>\n    </tr>\n    <tr>\n      <th>2021-05-24</th>\n      <td>188.457596</td>\n      <td>173.350006</td>\n      <td>175.850006</td>\n      <td>180.009995</td>\n      <td>4633820</td>\n      <td>180.009995</td>\n    </tr>\n  </tbody>\n</table>\n<p>99 rows × 6 columns</p>\n</div>"
     },
     "metadata": {},
     "execution_count": 9
    }
   ],
   "source": [
    "import datetime as dt \n",
    "from pandas_datareader import data as pdr \n",
    "\n",
    "\n",
    "start = dt.datetime(2021,1,1)\n",
    "now = dt.datetime.now()\n",
    "\n",
    "df = pdr.get_data_yahoo('GME',start,now)\n",
    "df"
   ]
  },
  {
   "cell_type": "code",
   "execution_count": 10,
   "metadata": {},
   "outputs": [],
   "source": [
    "df.to_sql('GME',engine)"
   ]
  },
  {
   "cell_type": "code",
   "execution_count": 11,
   "metadata": {},
   "outputs": [
    {
     "output_type": "execute_result",
     "data": {
      "text/plain": [
       "         Date        High         Low        Open       Close    Volume  \\\n",
       "0  2020-12-31   19.799999   18.799999   19.250000   18.840000   6922700   \n",
       "1  2021-01-04   19.100000   17.150000   19.000000   17.250000  10022500   \n",
       "2  2021-01-05   18.080000   17.230000   17.350000   17.370001   4961500   \n",
       "3  2021-01-06   18.980000   17.330000   17.340000   18.360001   6056200   \n",
       "4  2021-01-07   19.450001   18.020000   18.469999   18.080000   6129300   \n",
       "..        ...         ...         ...         ...         ...       ...   \n",
       "94 2021-05-18  189.199997  168.270004  174.539993  180.669998   7738700   \n",
       "95 2021-05-19  178.979996  164.149994  171.990005  168.830002   4825900   \n",
       "96 2021-05-20  174.910004  166.899994  170.789993  170.490005   2478200   \n",
       "97 2021-05-21  179.240005  170.330002  171.000000  176.789993   3648400   \n",
       "98 2021-05-24  188.457596  173.350006  175.850006  180.009995   4633820   \n",
       "\n",
       "     Adj Close  \n",
       "0    18.840000  \n",
       "1    17.250000  \n",
       "2    17.370001  \n",
       "3    18.360001  \n",
       "4    18.080000  \n",
       "..         ...  \n",
       "94  180.669998  \n",
       "95  168.830002  \n",
       "96  170.490005  \n",
       "97  176.789993  \n",
       "98  180.009995  \n",
       "\n",
       "[99 rows x 7 columns]"
      ],
      "text/html": "<div>\n<style scoped>\n    .dataframe tbody tr th:only-of-type {\n        vertical-align: middle;\n    }\n\n    .dataframe tbody tr th {\n        vertical-align: top;\n    }\n\n    .dataframe thead th {\n        text-align: right;\n    }\n</style>\n<table border=\"1\" class=\"dataframe\">\n  <thead>\n    <tr style=\"text-align: right;\">\n      <th></th>\n      <th>Date</th>\n      <th>High</th>\n      <th>Low</th>\n      <th>Open</th>\n      <th>Close</th>\n      <th>Volume</th>\n      <th>Adj Close</th>\n    </tr>\n  </thead>\n  <tbody>\n    <tr>\n      <th>0</th>\n      <td>2020-12-31</td>\n      <td>19.799999</td>\n      <td>18.799999</td>\n      <td>19.250000</td>\n      <td>18.840000</td>\n      <td>6922700</td>\n      <td>18.840000</td>\n    </tr>\n    <tr>\n      <th>1</th>\n      <td>2021-01-04</td>\n      <td>19.100000</td>\n      <td>17.150000</td>\n      <td>19.000000</td>\n      <td>17.250000</td>\n      <td>10022500</td>\n      <td>17.250000</td>\n    </tr>\n    <tr>\n      <th>2</th>\n      <td>2021-01-05</td>\n      <td>18.080000</td>\n      <td>17.230000</td>\n      <td>17.350000</td>\n      <td>17.370001</td>\n      <td>4961500</td>\n      <td>17.370001</td>\n    </tr>\n    <tr>\n      <th>3</th>\n      <td>2021-01-06</td>\n      <td>18.980000</td>\n      <td>17.330000</td>\n      <td>17.340000</td>\n      <td>18.360001</td>\n      <td>6056200</td>\n      <td>18.360001</td>\n    </tr>\n    <tr>\n      <th>4</th>\n      <td>2021-01-07</td>\n      <td>19.450001</td>\n      <td>18.020000</td>\n      <td>18.469999</td>\n      <td>18.080000</td>\n      <td>6129300</td>\n      <td>18.080000</td>\n    </tr>\n    <tr>\n      <th>...</th>\n      <td>...</td>\n      <td>...</td>\n      <td>...</td>\n      <td>...</td>\n      <td>...</td>\n      <td>...</td>\n      <td>...</td>\n    </tr>\n    <tr>\n      <th>94</th>\n      <td>2021-05-18</td>\n      <td>189.199997</td>\n      <td>168.270004</td>\n      <td>174.539993</td>\n      <td>180.669998</td>\n      <td>7738700</td>\n      <td>180.669998</td>\n    </tr>\n    <tr>\n      <th>95</th>\n      <td>2021-05-19</td>\n      <td>178.979996</td>\n      <td>164.149994</td>\n      <td>171.990005</td>\n      <td>168.830002</td>\n      <td>4825900</td>\n      <td>168.830002</td>\n    </tr>\n    <tr>\n      <th>96</th>\n      <td>2021-05-20</td>\n      <td>174.910004</td>\n      <td>166.899994</td>\n      <td>170.789993</td>\n      <td>170.490005</td>\n      <td>2478200</td>\n      <td>170.490005</td>\n    </tr>\n    <tr>\n      <th>97</th>\n      <td>2021-05-21</td>\n      <td>179.240005</td>\n      <td>170.330002</td>\n      <td>171.000000</td>\n      <td>176.789993</td>\n      <td>3648400</td>\n      <td>176.789993</td>\n    </tr>\n    <tr>\n      <th>98</th>\n      <td>2021-05-24</td>\n      <td>188.457596</td>\n      <td>173.350006</td>\n      <td>175.850006</td>\n      <td>180.009995</td>\n      <td>4633820</td>\n      <td>180.009995</td>\n    </tr>\n  </tbody>\n</table>\n<p>99 rows × 7 columns</p>\n</div>"
     },
     "metadata": {},
     "execution_count": 11
    }
   ],
   "source": [
    "pd.read_sql('GME',engine)"
   ]
  }
 ]
}