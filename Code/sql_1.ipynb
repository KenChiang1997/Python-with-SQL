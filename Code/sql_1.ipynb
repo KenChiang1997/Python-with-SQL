{
 "metadata": {
  "language_info": {
   "codemirror_mode": {
    "name": "ipython",
    "version": 3
   },
   "file_extension": ".py",
   "mimetype": "text/x-python",
   "name": "python",
   "nbconvert_exporter": "python",
   "pygments_lexer": "ipython3",
   "version": "3.8.5"
  },
  "orig_nbformat": 2,
  "kernelspec": {
   "name": "python385jvsc74a57bd0dca0ade3e726a953b501b15e8e990130d2b7799f14cfd9f4271676035ebe5511",
   "display_name": "Python 3.8.5 64-bit ('base': conda)"
  }
 },
 "nbformat": 4,
 "nbformat_minor": 2,
 "cells": [
  {
   "source": [
    "# Basic sqllite 3 library tutorial \n",
    "# Connection with python & Basic Function in sql"
   ],
   "cell_type": "markdown",
   "metadata": {}
  },
  {
   "cell_type": "code",
   "execution_count": 12,
   "metadata": {},
   "outputs": [],
   "source": [
    "import sqlite3\n",
    "import numpy as np \n",
    "import pandas as pd "
   ]
  },
  {
   "source": [
    "# Create   .DB file ？\n",
    "\n",
    "一些數據庫文件可以被存儲在特定的專有格式由用於創作數據庫文件的數據庫管理應用，以及它們的數據庫管理程序的實例是Microsoft Access軟件。通用數據庫文件，另一方面存儲在DB格式，和這些數據塊的文件被加蓋.db的擴展名。在Microsoft Access 2010中的應用程序也可以通過微軟Windows用戶用於創建，查看和編輯存儲在一個數據庫文件中的內容。這些通用的DB文件的內容可以包括結構化的組織中的字段和表格的文本數據，並且這些字段和表的數據類型也可以被包括在這些DB文件的內容。數據庫文件格式是由許多數據庫管理應用程序從Microsoft Access 2010的軟件支持之外，和DB文件可以導出並保存在其他數據庫文件格式，如CSV。 SQLite的軟件可以安裝，並通過Linux用戶用於創建，打開和編輯這些DB文件的內容。也有集成了數據導入存儲在這些DB文件的內容支持一些數據庫管理應用程序。"
   ],
   "cell_type": "markdown",
   "metadata": {}
  },
  {
   "cell_type": "code",
   "execution_count": 13,
   "metadata": {},
   "outputs": [],
   "source": [
    "connection = sqlite3.connect('ken_chiang.db')\n",
    "cursor = connection.cursor()"
   ]
  },
  {
   "source": [
    "這邊看起來就是用 object orient programming 方式去寫的 \n",
    "\n",
    ".execute 裡為 query 裡的語法\n",
    "\n",
    ".commit 為確實執行此語法\n",
    "\n",
    "----note---\n",
    "\n",
    "在 execute 中 select 完的數據還是以 sqlite 檔案呈現 , \n",
    "\n",
    "除非在 .fetchall() --> 才可以轉成 list"
   ],
   "cell_type": "markdown",
   "metadata": {}
  },
  {
   "cell_type": "code",
   "execution_count": 14,
   "metadata": {},
   "outputs": [],
   "source": [
    "try:\n",
    "    cursor.execute('DELETE FROM employees')\n",
    "    cursor.execute('CREATE TABLE employees(name TEXT , surname TEXT, salary REA)')\n",
    "except:\n",
    "    pass"
   ]
  },
  {
   "cell_type": "code",
   "execution_count": 15,
   "metadata": {},
   "outputs": [],
   "source": [
    "cursor.execute(\"INSERT INTO employees VALUES('MARIA','Mayer',100000)\")\n",
    "\n",
    "connection.commit()"
   ]
  },
  {
   "cell_type": "code",
   "execution_count": 16,
   "metadata": {},
   "outputs": [
    {
     "output_type": "execute_result",
     "data": {
      "text/plain": [
       "[('MARIA', 'Mayer', 100000)]"
      ]
     },
     "metadata": {},
     "execution_count": 16
    }
   ],
   "source": [
    "a = cursor.execute('SELECT * FROM employees')\n",
    "\n",
    "a.fetchall()"
   ]
  },
  {
   "cell_type": "code",
   "execution_count": 6,
   "metadata": {},
   "outputs": [],
   "source": [
    "name = \"ken\"\n",
    "surname = \"Data Analysist\"\n",
    "salary = 100000"
   ]
  },
  {
   "cell_type": "code",
   "execution_count": 7,
   "metadata": {},
   "outputs": [],
   "source": [
    "cursor.execute(\"INSERT INTO employees VALUES(?,?,?)\",(name,surname,salary))\n",
    "connection.commit()"
   ]
  },
  {
   "cell_type": "code",
   "execution_count": 8,
   "metadata": {},
   "outputs": [
    {
     "output_type": "execute_result",
     "data": {
      "text/plain": [
       "[('MARIA', 'Mayer', 100000.0), ('ken', 'Data Analysist', 100000.0)]"
      ]
     },
     "metadata": {},
     "execution_count": 8
    }
   ],
   "source": [
    "a = cursor.execute('SELECT * FROM employees')\n",
    "\n",
    "a.fetchall()"
   ]
  },
  {
   "cell_type": "code",
   "execution_count": 9,
   "metadata": {},
   "outputs": [],
   "source": [
    "class SQLinput_data:\n",
    "    \n",
    "    def __init__(self,name,surname,salary):\n",
    "        self.name = name \n",
    "        self.surname = surname \n",
    "        self.salary = salary "
   ]
  },
  {
   "cell_type": "code",
   "execution_count": 10,
   "metadata": {},
   "outputs": [],
   "source": [
    "insert_data = SQLinput_data('Denzel','cook',200000)\n",
    "name,surname ,salary = insert_data.name , insert_data.surname , insert_data.salary\n",
    "\n",
    "cursor.execute(\"INSERT INTO employees VALUES(?,?,?)\",(name,surname,salary))\n",
    "connection.commit()\n",
    "\n",
    "a = cursor.execute('SELECT * FROM employees')\n",
    "df = pd.DataFrame( a.fetchall() ,columns=[\"name\",\"surname\",\"salary\"])"
   ]
  },
  {
   "cell_type": "code",
   "execution_count": 11,
   "metadata": {},
   "outputs": [
    {
     "output_type": "execute_result",
     "data": {
      "text/plain": [
       "     name         surname    salary\n",
       "0   MARIA           Mayer  100000.0\n",
       "1     ken  Data Analysist  100000.0\n",
       "2  Denzel            cook  200000.0"
      ],
      "text/html": "<div>\n<style scoped>\n    .dataframe tbody tr th:only-of-type {\n        vertical-align: middle;\n    }\n\n    .dataframe tbody tr th {\n        vertical-align: top;\n    }\n\n    .dataframe thead th {\n        text-align: right;\n    }\n</style>\n<table border=\"1\" class=\"dataframe\">\n  <thead>\n    <tr style=\"text-align: right;\">\n      <th></th>\n      <th>name</th>\n      <th>surname</th>\n      <th>salary</th>\n    </tr>\n  </thead>\n  <tbody>\n    <tr>\n      <th>0</th>\n      <td>MARIA</td>\n      <td>Mayer</td>\n      <td>100000.0</td>\n    </tr>\n    <tr>\n      <th>1</th>\n      <td>ken</td>\n      <td>Data Analysist</td>\n      <td>100000.0</td>\n    </tr>\n    <tr>\n      <th>2</th>\n      <td>Denzel</td>\n      <td>cook</td>\n      <td>200000.0</td>\n    </tr>\n  </tbody>\n</table>\n</div>"
     },
     "metadata": {},
     "execution_count": 11
    }
   ],
   "source": [
    "df"
   ]
  }
 ]
}