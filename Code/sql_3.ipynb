{
 "metadata": {
  "language_info": {
   "codemirror_mode": {
    "name": "ipython",
    "version": 3
   },
   "file_extension": ".py",
   "mimetype": "text/x-python",
   "name": "python",
   "nbconvert_exporter": "python",
   "pygments_lexer": "ipython3",
   "version": "3.8.5"
  },
  "orig_nbformat": 2,
  "kernelspec": {
   "name": "python385jvsc74a57bd0dca0ade3e726a953b501b15e8e990130d2b7799f14cfd9f4271676035ebe5511",
   "display_name": "Python 3.8.5 64-bit ('base': conda)"
  }
 },
 "nbformat": 4,
 "nbformat_minor": 2,
 "cells": [
  {
   "cell_type": "code",
   "execution_count": 1,
   "metadata": {},
   "outputs": [],
   "source": [
    "import sqlalchemy\n",
    "import sqlite3\n",
    "\n",
    "import pandas as pd\n",
    "import yfinance as yf \n",
    "import datetime as dt \n",
    "from pandas_datareader import data as pdr "
   ]
  },
  {
   "cell_type": "code",
   "execution_count": 2,
   "metadata": {},
   "outputs": [],
   "source": [
    "wiki = 'https://en.wikipedia.org/wiki/'"
   ]
  },
  {
   "cell_type": "code",
   "execution_count": 3,
   "metadata": {},
   "outputs": [],
   "source": [
    "tickersSensex = pd.read_html(wiki+'BSE_SENSEX')[1].Symbol.to_list()\n",
    "tickersDOW = pd.read_html(wiki+'Dow_Jones_Industrial_Average')[1].Symbol.to_list()"
   ]
  },
  {
   "cell_type": "code",
   "execution_count": 4,
   "metadata": {},
   "outputs": [],
   "source": [
    "def get_data(tickerlist):\n",
    "    data = []\n",
    "    for i in tickerlist:\n",
    "        data.append( yf.download(i).reset_index() )\n",
    "    return data"
   ]
  },
  {
   "cell_type": "code",
   "execution_count": 5,
   "metadata": {},
   "outputs": [
    {
     "output_type": "stream",
     "name": "stdout",
     "text": [
      "[*********************100%***********************]  1 of 1 completed\n",
      "[*********************100%***********************]  1 of 1 completed\n",
      "[*********************100%***********************]  1 of 1 completed\n",
      "[*********************100%***********************]  1 of 1 completed\n",
      "[*********************100%***********************]  1 of 1 completed\n",
      "[*********************100%***********************]  1 of 1 completed\n",
      "[*********************100%***********************]  1 of 1 completed\n",
      "[*********************100%***********************]  1 of 1 completed\n",
      "[*********************100%***********************]  1 of 1 completed\n",
      "[*********************100%***********************]  1 of 1 completed\n",
      "[*********************100%***********************]  1 of 1 completed\n",
      "[*********************100%***********************]  1 of 1 completed\n",
      "[*********************100%***********************]  1 of 1 completed\n",
      "[*********************100%***********************]  1 of 1 completed\n",
      "[*********************100%***********************]  1 of 1 completed\n",
      "[*********************100%***********************]  1 of 1 completed\n",
      "[*********************100%***********************]  1 of 1 completed\n",
      "[*********************100%***********************]  1 of 1 completed\n",
      "[*********************100%***********************]  1 of 1 completed\n",
      "[*********************100%***********************]  1 of 1 completed\n",
      "[*********************100%***********************]  1 of 1 completed\n",
      "[*********************100%***********************]  1 of 1 completed\n",
      "[*********************100%***********************]  1 of 1 completed\n",
      "[*********************100%***********************]  1 of 1 completed\n",
      "[*********************100%***********************]  1 of 1 completed\n",
      "[*********************100%***********************]  1 of 1 completed\n",
      "[*********************100%***********************]  1 of 1 completed\n",
      "[*********************100%***********************]  1 of 1 completed\n",
      "[*********************100%***********************]  1 of 1 completed\n",
      "[*********************100%***********************]  1 of 1 completed\n",
      "[*********************100%***********************]  1 of 1 completed\n",
      "[*********************100%***********************]  1 of 1 completed\n",
      "[*********************100%***********************]  1 of 1 completed\n",
      "[*********************100%***********************]  1 of 1 completed\n",
      "[*********************100%***********************]  1 of 1 completed\n",
      "[*********************100%***********************]  1 of 1 completed\n",
      "[*********************100%***********************]  1 of 1 completed\n",
      "[*********************100%***********************]  1 of 1 completed\n",
      "[*********************100%***********************]  1 of 1 completed\n",
      "[*********************100%***********************]  1 of 1 completed\n",
      "[*********************100%***********************]  1 of 1 completed\n",
      "[*********************100%***********************]  1 of 1 completed\n",
      "[*********************100%***********************]  1 of 1 completed\n",
      "[*********************100%***********************]  1 of 1 completed\n",
      "[*********************100%***********************]  1 of 1 completed\n",
      "[*********************100%***********************]  1 of 1 completed\n",
      "[*********************100%***********************]  1 of 1 completed\n",
      "[*********************100%***********************]  1 of 1 completed\n",
      "[*********************100%***********************]  1 of 1 completed\n",
      "[*********************100%***********************]  1 of 1 completed\n",
      "[*********************100%***********************]  1 of 1 completed\n",
      "[*********************100%***********************]  1 of 1 completed\n",
      "[*********************100%***********************]  1 of 1 completed\n",
      "[*********************100%***********************]  1 of 1 completed\n",
      "[*********************100%***********************]  1 of 1 completed\n",
      "[*********************100%***********************]  1 of 1 completed\n",
      "[*********************100%***********************]  1 of 1 completed\n",
      "[*********************100%***********************]  1 of 1 completed\n",
      "[*********************100%***********************]  1 of 1 completed\n",
      "[*********************100%***********************]  1 of 1 completed\n"
     ]
    }
   ],
   "source": [
    "india,US = get_data(tickerlist=tickersSensex) , get_data(tickerlist=tickersDOW)"
   ]
  },
  {
   "cell_type": "code",
   "execution_count": 6,
   "metadata": {},
   "outputs": [],
   "source": [
    "def createengine(name):\n",
    "    engine = sqlalchemy.create_engine('sqlite:///'+name)\n",
    "    return engine"
   ]
  },
  {
   "cell_type": "code",
   "execution_count": 7,
   "metadata": {},
   "outputs": [],
   "source": [
    "USengine = createengine(name='DowJones')\n",
    "connection = sqlite3.connect('DowJones.db')"
   ]
  },
  {
   "cell_type": "code",
   "execution_count": 8,
   "metadata": {},
   "outputs": [],
   "source": [
    "def TOSQL(frames,symbols,engine):\n",
    "    \"\"\"\n",
    "    frames    -->  US\n",
    "    tickersDOW --> Symbol\n",
    "    \"\"\"\n",
    "    for frame,symbol in zip(frames,symbols):\n",
    "        try:\n",
    "            frame.to_sql(symbol,engine,index=False)\n",
    "            print(\"successfully imported \"+str(symbol))\n",
    "        except:\n",
    "            frame.to_sql(str(symbol),engine,if_exists='replace',index=False)\n",
    "            print(\"successfully update  \"+str(symbol))"
   ]
  },
  {
   "cell_type": "code",
   "execution_count": 9,
   "metadata": {},
   "outputs": [
    {
     "output_type": "stream",
     "name": "stdout",
     "text": [
      "successfully update  MMM\n",
      "successfully update  AXP\n",
      "successfully update  AMGN\n",
      "successfully update  AAPL\n",
      "successfully update  BA\n",
      "successfully update  CAT\n",
      "successfully update  CVX\n",
      "successfully update  CSCO\n",
      "successfully update  KO\n",
      "successfully update  DOW\n",
      "successfully update  GS\n",
      "successfully update  HD\n",
      "successfully update  HON\n",
      "successfully update  IBM\n",
      "successfully update  INTC\n",
      "successfully update  JNJ\n",
      "successfully update  JPM\n",
      "successfully update  MCD\n",
      "successfully update  MRK\n",
      "successfully update  MSFT\n",
      "successfully update  NKE\n",
      "successfully update  PG\n",
      "successfully update  CRM\n",
      "successfully update  TRV\n",
      "successfully update  UNH\n",
      "successfully update  VZ\n",
      "successfully update  V\n",
      "successfully update  WBA\n",
      "successfully update  WMT\n",
      "successfully update  DIS\n"
     ]
    }
   ],
   "source": [
    "TOSQL(frames=US,symbols=tickersDOW,engine='DowJones.db')"
   ]
  },
  {
   "cell_type": "code",
   "execution_count": 10,
   "metadata": {},
   "outputs": [
    {
     "output_type": "execute_result",
     "data": {
      "text/plain": [
       "            Date        Open        High         Low       Close   Adj Close  \\\n",
       "0     1962-01-02    0.837449    0.837449    0.823045    0.823045    0.190931   \n",
       "1     1962-01-03    0.835391    0.851852    0.835391    0.839506    0.194749   \n",
       "2     1962-01-04    0.839506    0.853909    0.831276    0.831276    0.192840   \n",
       "3     1962-01-05    0.831276    0.835391    0.792181    0.814815    0.189022   \n",
       "4     1962-01-08    0.814815    0.829218    0.804527    0.816872    0.189499   \n",
       "...          ...         ...         ...         ...         ...         ...   \n",
       "14947 2021-05-19  223.179993  225.119995  220.279999  224.419998  224.419998   \n",
       "14948 2021-05-20  225.130005  228.440002  223.770004  227.649994  227.649994   \n",
       "14949 2021-05-21  232.899994  236.300003  231.389999  234.820007  234.820007   \n",
       "14950 2021-05-24  235.139999  238.500000  232.600006  237.440002  237.440002   \n",
       "14951 2021-05-25  240.000000  243.779999  239.229996  240.740005  240.740005   \n",
       "\n",
       "         Volume  \n",
       "0        352350  \n",
       "1        710775  \n",
       "2        911250  \n",
       "3        880875  \n",
       "4        473850  \n",
       "...         ...  \n",
       "14947  13162700  \n",
       "14948   9218900  \n",
       "14949  16350200  \n",
       "14950  10106000  \n",
       "14951  12892300  \n",
       "\n",
       "[14952 rows x 7 columns]"
      ],
      "text/html": "<div>\n<style scoped>\n    .dataframe tbody tr th:only-of-type {\n        vertical-align: middle;\n    }\n\n    .dataframe tbody tr th {\n        vertical-align: top;\n    }\n\n    .dataframe thead th {\n        text-align: right;\n    }\n</style>\n<table border=\"1\" class=\"dataframe\">\n  <thead>\n    <tr style=\"text-align: right;\">\n      <th></th>\n      <th>Date</th>\n      <th>Open</th>\n      <th>High</th>\n      <th>Low</th>\n      <th>Close</th>\n      <th>Adj Close</th>\n      <th>Volume</th>\n    </tr>\n  </thead>\n  <tbody>\n    <tr>\n      <th>0</th>\n      <td>1962-01-02</td>\n      <td>0.837449</td>\n      <td>0.837449</td>\n      <td>0.823045</td>\n      <td>0.823045</td>\n      <td>0.190931</td>\n      <td>352350</td>\n    </tr>\n    <tr>\n      <th>1</th>\n      <td>1962-01-03</td>\n      <td>0.835391</td>\n      <td>0.851852</td>\n      <td>0.835391</td>\n      <td>0.839506</td>\n      <td>0.194749</td>\n      <td>710775</td>\n    </tr>\n    <tr>\n      <th>2</th>\n      <td>1962-01-04</td>\n      <td>0.839506</td>\n      <td>0.853909</td>\n      <td>0.831276</td>\n      <td>0.831276</td>\n      <td>0.192840</td>\n      <td>911250</td>\n    </tr>\n    <tr>\n      <th>3</th>\n      <td>1962-01-05</td>\n      <td>0.831276</td>\n      <td>0.835391</td>\n      <td>0.792181</td>\n      <td>0.814815</td>\n      <td>0.189022</td>\n      <td>880875</td>\n    </tr>\n    <tr>\n      <th>4</th>\n      <td>1962-01-08</td>\n      <td>0.814815</td>\n      <td>0.829218</td>\n      <td>0.804527</td>\n      <td>0.816872</td>\n      <td>0.189499</td>\n      <td>473850</td>\n    </tr>\n    <tr>\n      <th>...</th>\n      <td>...</td>\n      <td>...</td>\n      <td>...</td>\n      <td>...</td>\n      <td>...</td>\n      <td>...</td>\n      <td>...</td>\n    </tr>\n    <tr>\n      <th>14947</th>\n      <td>2021-05-19</td>\n      <td>223.179993</td>\n      <td>225.119995</td>\n      <td>220.279999</td>\n      <td>224.419998</td>\n      <td>224.419998</td>\n      <td>13162700</td>\n    </tr>\n    <tr>\n      <th>14948</th>\n      <td>2021-05-20</td>\n      <td>225.130005</td>\n      <td>228.440002</td>\n      <td>223.770004</td>\n      <td>227.649994</td>\n      <td>227.649994</td>\n      <td>9218900</td>\n    </tr>\n    <tr>\n      <th>14949</th>\n      <td>2021-05-21</td>\n      <td>232.899994</td>\n      <td>236.300003</td>\n      <td>231.389999</td>\n      <td>234.820007</td>\n      <td>234.820007</td>\n      <td>16350200</td>\n    </tr>\n    <tr>\n      <th>14950</th>\n      <td>2021-05-24</td>\n      <td>235.139999</td>\n      <td>238.500000</td>\n      <td>232.600006</td>\n      <td>237.440002</td>\n      <td>237.440002</td>\n      <td>10106000</td>\n    </tr>\n    <tr>\n      <th>14951</th>\n      <td>2021-05-25</td>\n      <td>240.000000</td>\n      <td>243.779999</td>\n      <td>239.229996</td>\n      <td>240.740005</td>\n      <td>240.740005</td>\n      <td>12892300</td>\n    </tr>\n  </tbody>\n</table>\n<p>14952 rows × 7 columns</p>\n</div>"
     },
     "metadata": {},
     "execution_count": 10
    }
   ],
   "source": [
    "pd.read_sql('BA',USengine)"
   ]
  }
 ]
}