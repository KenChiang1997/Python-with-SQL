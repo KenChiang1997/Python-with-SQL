{
 "metadata": {
  "language_info": {
   "codemirror_mode": {
    "name": "ipython",
    "version": 3
   },
   "file_extension": ".py",
   "mimetype": "text/x-python",
   "name": "python",
   "nbconvert_exporter": "python",
   "pygments_lexer": "ipython3",
   "version": "3.8.5"
  },
  "orig_nbformat": 2,
  "kernelspec": {
   "name": "python385jvsc74a57bd0dca0ade3e726a953b501b15e8e990130d2b7799f14cfd9f4271676035ebe5511",
   "display_name": "Python 3.8.5 64-bit ('base': conda)"
  }
 },
 "nbformat": 4,
 "nbformat_minor": 2,
 "cells": [
  {
   "source": [
    "# Simple stock recommendation system with tech indicator - (RSI , MACD) \n",
    "       -- by Python and lite SQL"
   ],
   "cell_type": "markdown",
   "metadata": {}
  },
  {
   "cell_type": "code",
   "execution_count": 17,
   "metadata": {},
   "outputs": [],
   "source": [
    "import sqlalchemy\n",
    "import sqlite3\n",
    "import ta\n",
    "\n",
    "import numpy as np \n",
    "import pandas as pd \n",
    "import datetime as dt \n",
    "from pandas_datareader import data as pdr "
   ]
  },
  {
   "cell_type": "code",
   "execution_count": 4,
   "metadata": {},
   "outputs": [],
   "source": [
    "engine = sqlalchemy.create_engine('sqlite:///DowJones')"
   ]
  },
  {
   "cell_type": "code",
   "execution_count": 12,
   "metadata": {},
   "outputs": [
    {
     "output_type": "execute_result",
     "data": {
      "text/plain": [
       "['MMM', 'AXP', 'AMGN', 'AAPL', 'BA']"
      ]
     },
     "metadata": {},
     "execution_count": 12
    }
   ],
   "source": [
    "company = pd.read_sql('SELECT name FROM sqlite_master WHERE type = \"table\"',engine).name.to_list()\n",
    "company[0:5]"
   ]
  },
  {
   "cell_type": "code",
   "execution_count": 15,
   "metadata": {},
   "outputs": [
    {
     "output_type": "execute_result",
     "data": {
      "text/plain": [
       "                             Date       Close\n",
       "0      1970-01-02 00:00:00.000000    6.851563\n",
       "1      1970-01-05 00:00:00.000000    6.890625\n",
       "2      1970-01-06 00:00:00.000000    6.960938\n",
       "3      1970-01-07 00:00:00.000000    7.000000\n",
       "4      1970-01-08 00:00:00.000000    7.093750\n",
       "...                           ...         ...\n",
       "12960  2021-05-19 00:00:00.000000  202.600006\n",
       "12961  2021-05-20 00:00:00.000000  201.649994\n",
       "12962  2021-05-21 00:00:00.000000  201.860001\n",
       "12963  2021-05-24 00:00:00.000000  202.610001\n",
       "12964  2021-05-25 00:00:00.000000  201.710007\n",
       "\n",
       "[12965 rows x 2 columns]"
      ],
      "text/html": "<div>\n<style scoped>\n    .dataframe tbody tr th:only-of-type {\n        vertical-align: middle;\n    }\n\n    .dataframe tbody tr th {\n        vertical-align: top;\n    }\n\n    .dataframe thead th {\n        text-align: right;\n    }\n</style>\n<table border=\"1\" class=\"dataframe\">\n  <thead>\n    <tr style=\"text-align: right;\">\n      <th></th>\n      <th>Date</th>\n      <th>Close</th>\n    </tr>\n  </thead>\n  <tbody>\n    <tr>\n      <th>0</th>\n      <td>1970-01-02 00:00:00.000000</td>\n      <td>6.851563</td>\n    </tr>\n    <tr>\n      <th>1</th>\n      <td>1970-01-05 00:00:00.000000</td>\n      <td>6.890625</td>\n    </tr>\n    <tr>\n      <th>2</th>\n      <td>1970-01-06 00:00:00.000000</td>\n      <td>6.960938</td>\n    </tr>\n    <tr>\n      <th>3</th>\n      <td>1970-01-07 00:00:00.000000</td>\n      <td>7.000000</td>\n    </tr>\n    <tr>\n      <th>4</th>\n      <td>1970-01-08 00:00:00.000000</td>\n      <td>7.093750</td>\n    </tr>\n    <tr>\n      <th>...</th>\n      <td>...</td>\n      <td>...</td>\n    </tr>\n    <tr>\n      <th>12960</th>\n      <td>2021-05-19 00:00:00.000000</td>\n      <td>202.600006</td>\n    </tr>\n    <tr>\n      <th>12961</th>\n      <td>2021-05-20 00:00:00.000000</td>\n      <td>201.649994</td>\n    </tr>\n    <tr>\n      <th>12962</th>\n      <td>2021-05-21 00:00:00.000000</td>\n      <td>201.860001</td>\n    </tr>\n    <tr>\n      <th>12963</th>\n      <td>2021-05-24 00:00:00.000000</td>\n      <td>202.610001</td>\n    </tr>\n    <tr>\n      <th>12964</th>\n      <td>2021-05-25 00:00:00.000000</td>\n      <td>201.710007</td>\n    </tr>\n  </tbody>\n</table>\n<p>12965 rows × 2 columns</p>\n</div>"
     },
     "metadata": {},
     "execution_count": 15
    }
   ],
   "source": [
    "frame_list = [ pd.read_sql(f'SELECT Date,Close FROM\"{name}\"',engine) for name in company] \n",
    "frame_list[0]"
   ]
  },
  {
   "cell_type": "code",
   "execution_count": 21,
   "metadata": {},
   "outputs": [],
   "source": [
    "def MACD_decision(df):\n",
    "    df['MACD_diff'] = ta.trend.macd_diff(df.Close)\n",
    "    df.loc[ (df.MACD_diff>0) & (df.MACD_diff.shift(1) <0 ) ,'Decision MACD'] = 'Buy'\n",
    "\n",
    "def RSI_decision(df):\n",
    "    df['RSI'] = ta.momentum.rsi(df.Close,window=10)\n",
    "    df['SMA200'] = ta.trend.sma_indicator(df.Close,window=200)\n",
    "    df.loc[ (df.Close > df.SMA200) & (df.RSI < 30) ,'Decision RSI/SMA' ] = 'Buy'\n"
   ]
  },
  {
   "cell_type": "code",
   "execution_count": 22,
   "metadata": {},
   "outputs": [],
   "source": [
    "for frame in frame_list : \n",
    "    MACD_decision(frame)\n",
    "    RSI_decision(frame)"
   ]
  },
  {
   "cell_type": "code",
   "execution_count": 28,
   "metadata": {},
   "outputs": [
    {
     "output_type": "stream",
     "name": "stdout",
     "text": [
      "Na for MMM\nNa for AXP\nNa for AMGN\nNa for AAPL\nNa for BA\nNa for CAT\nNa for CVX\nNa for CSCO\nNa for KO\nNa for DOW\nNa for GS\nNa for HD\nNa for HON\nNa for IBM\nNa for INTC\nNa for JNJ\nNa for JPM\nNa for MCD\nNa for MRK\nbuying signal for MSFT\nNa for NKE\nNa for PG\nNa for CRM\nNa for TRV\nNa for UNH\nNa for VZ\nNa for V\nNa for WBA\nNa for WMT\nNa for DIS\n"
     ]
    }
   ],
   "source": [
    "output = []\n",
    "for name,frame in zip(company,frame_list):\n",
    "    if frame['Decision MACD'].iloc[-1] =='Buy' or frame['Decision RSI/SMA'].iloc[-1] =='Buy':\n",
    "        print('buying signal for ' + str(name) )\n",
    "        output.append ( frame )\n",
    "    else:\n",
    "        print(\"Na for \" +str(name))"
   ]
  },
  {
   "cell_type": "code",
   "execution_count": 31,
   "metadata": {},
   "outputs": [
    {
     "output_type": "execute_result",
     "data": {
      "text/plain": [
       "                            Date       Close  ...     SMA200 Decision RSI/SMA\n",
       "0     1986-03-13 00:00:00.000000    0.097222  ...        NaN              NaN\n",
       "1     1986-03-14 00:00:00.000000    0.100694  ...        NaN              NaN\n",
       "2     1986-03-17 00:00:00.000000    0.102431  ...        NaN              NaN\n",
       "3     1986-03-18 00:00:00.000000    0.099826  ...        NaN              NaN\n",
       "4     1986-03-19 00:00:00.000000    0.098090  ...        NaN              NaN\n",
       "...                          ...         ...  ...        ...              ...\n",
       "8868  2021-05-19 00:00:00.000000  243.119995  ...  225.77580              NaN\n",
       "8869  2021-05-20 00:00:00.000000  246.479996  ...  225.94175              NaN\n",
       "8870  2021-05-21 00:00:00.000000  245.169998  ...  226.10290              NaN\n",
       "8871  2021-05-24 00:00:00.000000  250.779999  ...  226.27505              NaN\n",
       "8872  2021-05-25 00:00:00.000000  251.720001  ...  226.47125              NaN\n",
       "\n",
       "[8873 rows x 7 columns]"
      ],
      "text/html": "<div>\n<style scoped>\n    .dataframe tbody tr th:only-of-type {\n        vertical-align: middle;\n    }\n\n    .dataframe tbody tr th {\n        vertical-align: top;\n    }\n\n    .dataframe thead th {\n        text-align: right;\n    }\n</style>\n<table border=\"1\" class=\"dataframe\">\n  <thead>\n    <tr style=\"text-align: right;\">\n      <th></th>\n      <th>Date</th>\n      <th>Close</th>\n      <th>MACD_diff</th>\n      <th>Decision MACD</th>\n      <th>RSI</th>\n      <th>SMA200</th>\n      <th>Decision RSI/SMA</th>\n    </tr>\n  </thead>\n  <tbody>\n    <tr>\n      <th>0</th>\n      <td>1986-03-13 00:00:00.000000</td>\n      <td>0.097222</td>\n      <td>NaN</td>\n      <td>NaN</td>\n      <td>NaN</td>\n      <td>NaN</td>\n      <td>NaN</td>\n    </tr>\n    <tr>\n      <th>1</th>\n      <td>1986-03-14 00:00:00.000000</td>\n      <td>0.100694</td>\n      <td>NaN</td>\n      <td>NaN</td>\n      <td>NaN</td>\n      <td>NaN</td>\n      <td>NaN</td>\n    </tr>\n    <tr>\n      <th>2</th>\n      <td>1986-03-17 00:00:00.000000</td>\n      <td>0.102431</td>\n      <td>NaN</td>\n      <td>NaN</td>\n      <td>NaN</td>\n      <td>NaN</td>\n      <td>NaN</td>\n    </tr>\n    <tr>\n      <th>3</th>\n      <td>1986-03-18 00:00:00.000000</td>\n      <td>0.099826</td>\n      <td>NaN</td>\n      <td>NaN</td>\n      <td>NaN</td>\n      <td>NaN</td>\n      <td>NaN</td>\n    </tr>\n    <tr>\n      <th>4</th>\n      <td>1986-03-19 00:00:00.000000</td>\n      <td>0.098090</td>\n      <td>NaN</td>\n      <td>NaN</td>\n      <td>NaN</td>\n      <td>NaN</td>\n      <td>NaN</td>\n    </tr>\n    <tr>\n      <th>...</th>\n      <td>...</td>\n      <td>...</td>\n      <td>...</td>\n      <td>...</td>\n      <td>...</td>\n      <td>...</td>\n      <td>...</td>\n    </tr>\n    <tr>\n      <th>8868</th>\n      <td>2021-05-19 00:00:00.000000</td>\n      <td>243.119995</td>\n      <td>-1.223848</td>\n      <td>NaN</td>\n      <td>41.008443</td>\n      <td>225.77580</td>\n      <td>NaN</td>\n    </tr>\n    <tr>\n      <th>8869</th>\n      <td>2021-05-20 00:00:00.000000</td>\n      <td>246.479996</td>\n      <td>-0.868503</td>\n      <td>NaN</td>\n      <td>47.822454</td>\n      <td>225.94175</td>\n      <td>NaN</td>\n    </tr>\n    <tr>\n      <th>8870</th>\n      <td>2021-05-21 00:00:00.000000</td>\n      <td>245.169998</td>\n      <td>-0.677226</td>\n      <td>NaN</td>\n      <td>45.543538</td>\n      <td>226.10290</td>\n      <td>NaN</td>\n    </tr>\n    <tr>\n      <th>8871</th>\n      <td>2021-05-24 00:00:00.000000</td>\n      <td>250.779999</td>\n      <td>-0.155648</td>\n      <td>NaN</td>\n      <td>55.609144</td>\n      <td>226.27505</td>\n      <td>NaN</td>\n    </tr>\n    <tr>\n      <th>8872</th>\n      <td>2021-05-25 00:00:00.000000</td>\n      <td>251.720001</td>\n      <td>0.247939</td>\n      <td>Buy</td>\n      <td>57.085918</td>\n      <td>226.47125</td>\n      <td>NaN</td>\n    </tr>\n  </tbody>\n</table>\n<p>8873 rows × 7 columns</p>\n</div>"
     },
     "metadata": {},
     "execution_count": 31
    }
   ],
   "source": [
    "output[0]"
   ]
  }
 ]
}